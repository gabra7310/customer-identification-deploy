{
 "cells": [
  {
   "cell_type": "markdown",
   "id": "95e0015b",
   "metadata": {},
   "source": [
    "# 0.0 Imports"
   ]
  },
  {
   "cell_type": "code",
   "execution_count": 6,
   "id": "f32bc2e5",
   "metadata": {
    "ExecuteTime": {
     "end_time": "2023-12-21T02:17:29.358532Z",
     "start_time": "2023-12-21T02:17:26.139094Z"
    }
   },
   "outputs": [
    {
     "name": "stderr",
     "output_type": "stream",
     "text": [
      "c:\\Users\\Gabriel\\anaconda3\\envs\\customer_deploy\\lib\\site-packages\\tqdm\\auto.py:21: TqdmWarning: IProgress not found. Please update jupyter and ipywidgets. See https://ipywidgets.readthedocs.io/en/stable/user_install.html\n",
      "  from .autonotebook import tqdm as notebook_tqdm\n"
     ]
    }
   ],
   "source": [
    "import pandas as pd\n",
    "import numpy  as np\n",
    "\n",
    "import inflection\n",
    "import s3fs\n",
    "import umap\n",
    "import os\n",
    "\n",
    "from sklearn import preprocessing as pp\n",
    "from sklearn import cluster as c\n",
    "from sklearn import metrics as m\n",
    "from sklearn import decomposition as dd\n",
    "from sklearn import manifold as mn\n",
    "from sklearn import ensemble as en\n",
    "from sklearn import mixture as mx\n",
    "from sklearn.neighbors import NearestNeighbors\n",
    "\n",
    "from scipy.cluster import hierarchy as hc"
   ]
  },
  {
   "cell_type": "markdown",
   "id": "be1ccd49",
   "metadata": {},
   "source": [
    "## 0.1 Helper functions"
   ]
  },
  {
   "cell_type": "code",
   "execution_count": 8,
   "id": "a9310d1c",
   "metadata": {
    "ExecuteTime": {
     "end_time": "2023-12-21T02:17:30.388881Z",
     "start_time": "2023-12-21T02:17:30.367991Z"
    },
    "code_folding": [
     99
    ]
   },
   "outputs": [],
   "source": [
    "def rename_columns(dataframe):\n",
    "    df = dataframe.copy()\n",
    "    title = lambda x: inflection.titleize(x)\n",
    "    snakecase = lambda x: inflection.underscore(x)\n",
    "    spaces = lambda x: x.replace(\" \", \"\")\n",
    "    cols_old = list(df.columns)\n",
    "    #cols_old = list(map(title, cols_old))\n",
    "    cols_old = list(map(spaces, cols_old))\n",
    "    cols_new = list(map(snakecase, cols_old))\n",
    "    df.columns = cols_new\n",
    "    return df"
   ]
  },
  {
   "cell_type": "markdown",
   "id": "86361f26",
   "metadata": {
    "jp-MarkdownHeadingCollapsed": true
   },
   "source": [
    "## 0.2 Loading data"
   ]
  },
  {
   "cell_type": "code",
   "execution_count": 13,
   "id": "95e7c66c",
   "metadata": {},
   "outputs": [],
   "source": [
    "path_s3 = 's3://insiders-cluster'"
   ]
  },
  {
   "cell_type": "code",
   "execution_count": 21,
   "id": "0e4d5ad4",
   "metadata": {
    "ExecuteTime": {
     "end_time": "2023-12-21T02:17:35.550185Z",
     "start_time": "2023-12-21T02:17:35.092669Z"
    }
   },
   "outputs": [],
   "source": [
    "df_raw = pd.read_excel(path_s3 + '/Online Retail.xlsx')"
   ]
  },
  {
   "cell_type": "markdown",
   "id": "0f7caf1c",
   "metadata": {
    "heading_collapsed": true,
    "jp-MarkdownHeadingCollapsed": true
   },
   "source": [
    "# 1.0 Data description"
   ]
  },
  {
   "cell_type": "code",
   "execution_count": 23,
   "id": "7f8fd6bc",
   "metadata": {
    "ExecuteTime": {
     "end_time": "2023-12-11T17:36:36.467876Z",
     "start_time": "2023-12-11T17:36:36.454867Z"
    },
    "hidden": true
   },
   "outputs": [],
   "source": [
    "df1 = df_raw.copy()"
   ]
  },
  {
   "cell_type": "markdown",
   "id": "d896a545",
   "metadata": {
    "ExecuteTime": {
     "end_time": "2023-03-27T21:49:43.050218Z",
     "start_time": "2023-03-27T21:49:43.043230Z"
    },
    "hidden": true
   },
   "source": [
    "## 1.1 Rename columns"
   ]
  },
  {
   "cell_type": "code",
   "execution_count": 24,
   "id": "4140598b",
   "metadata": {
    "ExecuteTime": {
     "end_time": "2023-12-11T17:36:36.486111Z",
     "start_time": "2023-12-11T17:36:36.468878Z"
    },
    "hidden": true
   },
   "outputs": [],
   "source": [
    "# Using the function we created in section 0.1\n",
    "df1 = rename_columns(df1)"
   ]
  },
  {
   "cell_type": "markdown",
   "id": "5cb2ccb1",
   "metadata": {
    "heading_collapsed": true,
    "hidden": true
   },
   "source": [
    "## 1.5 Replace NA "
   ]
  },
  {
   "cell_type": "code",
   "execution_count": 25,
   "id": "51ebb516",
   "metadata": {},
   "outputs": [],
   "source": [
    "# Separando o df com os NA na coluna customer_id\n",
    "df_missing = df1.loc[df1['customer_id'].isna(), :]\n",
    "df_not_missing = df1.loc[~df1['customer_id'].isna(), :]"
   ]
  },
  {
   "cell_type": "code",
   "execution_count": 26,
   "id": "e9791cfd",
   "metadata": {},
   "outputs": [],
   "source": [
    "# Arbitrando um id para os todos os customers que estão sem id\n",
    "\n",
    "# Definindo aleatoriamente para cada invoice unico (drop duplicate)\n",
    "df_backup = pd.DataFrame(df_missing['invoice_no'].drop_duplicates())\n",
    "df_backup['customer_id'] = np.arange(19000, 19000+len(df_backup), 1)\n",
    "\n",
    "# merge original with reference dataframe\n",
    "df1 = pd.merge( df1, df_backup, on='invoice_no', how='left' )\n",
    "\n",
    "# coalesce \n",
    "df1['customer_id'] = df1['customer_id_x'].combine_first( df1['customer_id_y'] )\n",
    "\n",
    "# drop extra columns\n",
    "df1 = df1.drop( columns=['customer_id_x', 'customer_id_y'], axis=1 )"
   ]
  },
  {
   "cell_type": "markdown",
   "id": "213ee073",
   "metadata": {},
   "source": [
    "## 1.6 Change types"
   ]
  },
  {
   "cell_type": "code",
   "execution_count": 27,
   "id": "66c8b676",
   "metadata": {},
   "outputs": [],
   "source": [
    "# invoice date\n",
    "df1['invoice_date'] = pd.to_datetime( df1['invoice_date'], format='%d-%b-%y')\n",
    "\n",
    "# customer id\n",
    "df1['customer_id'] = df1['customer_id'].astype(int)\n",
    "\n",
    "# invoice number\n",
    "df1['invoice_no'] = df1['invoice_no'].astype(str)\n",
    "\n",
    "# stock code\n",
    "df1['stock_code'] = df1['stock_code'].astype(str)"
   ]
  },
  {
   "cell_type": "markdown",
   "id": "3cb89acc",
   "metadata": {},
   "source": [
    "# 2.0 Feature filtering"
   ]
  },
  {
   "cell_type": "code",
   "execution_count": 28,
   "id": "533805b7",
   "metadata": {},
   "outputs": [],
   "source": [
    "df2 = df1.copy()"
   ]
  },
  {
   "cell_type": "code",
   "execution_count": 29,
   "id": "dc20472e",
   "metadata": {},
   "outputs": [],
   "source": [
    "# === Numerical attributes ====\n",
    "df2 = df2.loc[df2['unit_price'] >= 0.04, :]\n",
    "\n",
    "# === Categorical attributes ====\n",
    "df2 = df2[~df2['stock_code'].isin( ['POST', 'D', 'DOT', 'M', 'S', 'AMAZONFEE', 'm', 'DCGSSBOY', 'DCGSSGIRL', 'PADS', 'B', 'CRUK'] )]\n",
    "\n",
    "# description\n",
    "df2 = df2.drop( columns='description', axis=1 )\n",
    "\n",
    "# map \n",
    "df2 = df2[~df2['country'].isin( ['European Community', 'Unspecified' ] ) ]\n",
    "\n",
    "# bad users\n",
    "df2 = df2[~df2['customer_id'].isin( [16446] )]\n",
    "\n",
    "# quantity\n",
    "df2_returns = df2.loc[df1['quantity'] < 0, :]\n",
    "df2_purchases = df2.loc[df1['quantity'] >= 0, :]"
   ]
  },
  {
   "cell_type": "markdown",
   "id": "243f49fb",
   "metadata": {
    "heading_collapsed": true,
    "jp-MarkdownHeadingCollapsed": true
   },
   "source": [
    "# 3.0 Feature engineering"
   ]
  },
  {
   "cell_type": "code",
   "execution_count": 30,
   "id": "e1fd81c9",
   "metadata": {
    "ExecuteTime": {
     "end_time": "2023-12-11T17:36:40.669996Z",
     "start_time": "2023-12-11T17:36:40.657833Z"
    },
    "hidden": true
   },
   "outputs": [],
   "source": [
    "df3 = df2.copy()"
   ]
  },
  {
   "cell_type": "markdown",
   "id": "3fc07779",
   "metadata": {},
   "source": [
    "## 3.1 Feature creation"
   ]
  },
  {
   "cell_type": "code",
   "execution_count": 31,
   "id": "e96078ba",
   "metadata": {},
   "outputs": [],
   "source": [
    "cols_drop = ['invoice_no', 'stock_code', 'quantity', 'invoice_date', 'unit_price', 'country']\n",
    "\n",
    "df_ref = df3.drop(cols_drop, axis=1).drop_duplicates(ignore_index=True)"
   ]
  },
  {
   "cell_type": "markdown",
   "id": "412d10f4",
   "metadata": {},
   "source": [
    "### 3.1.1 Gross Revenue"
   ]
  },
  {
   "cell_type": "code",
   "execution_count": 34,
   "id": "5ab27471",
   "metadata": {},
   "outputs": [
    {
     "name": "stderr",
     "output_type": "stream",
     "text": [
      "C:\\Users\\Gabriel\\AppData\\Local\\Temp\\ipykernel_25700\\2433535372.py:2: SettingWithCopyWarning: \n",
      "A value is trying to be set on a copy of a slice from a DataFrame.\n",
      "Try using .loc[row_indexer,col_indexer] = value instead\n",
      "\n",
      "See the caveats in the documentation: https://pandas.pydata.org/pandas-docs/stable/user_guide/indexing.html#returning-a-view-versus-a-copy\n",
      "  df2_purchases['gross_revenue'] = df2_purchases['quantity'] * df2_purchases['unit_price']\n"
     ]
    },
    {
     "data": {
      "text/plain": [
       "customer_id       0\n",
       "gross_revenue    91\n",
       "dtype: int64"
      ]
     },
     "execution_count": 34,
     "metadata": {},
     "output_type": "execute_result"
    }
   ],
   "source": [
    "# Gross Revenue\n",
    "df2_purchases['gross_revenue'] = df2_purchases['quantity'] * df2_purchases['unit_price']\n",
    "\n",
    "# Monetary\n",
    "df_monetary = df2_purchases[['customer_id', 'gross_revenue']].groupby('customer_id').sum().reset_index()\n",
    "df_ref = pd.merge(df_ref, df_monetary, on='customer_id', how='left')\n",
    "\n",
    "df_ref.isna().sum()"
   ]
  },
  {
   "cell_type": "markdown",
   "id": "d3a90357",
   "metadata": {},
   "source": [
    "### 3.1.2 Recency - Days from last purchase"
   ]
  },
  {
   "cell_type": "code",
   "execution_count": 35,
   "id": "d572e644",
   "metadata": {},
   "outputs": [
    {
     "data": {
      "text/plain": [
       "customer_id       0\n",
       "gross_revenue    91\n",
       "recency_days     91\n",
       "dtype: int64"
      ]
     },
     "execution_count": 35,
     "metadata": {},
     "output_type": "execute_result"
    }
   ],
   "source": [
    "# Recency - Last day purchase\n",
    "# Calculate how many days has passed from the day that the customer had a purchase\n",
    "# **inverter função**\n",
    "df_recency = df2_purchases[['customer_id', 'invoice_date']].groupby( 'customer_id' ).max().reset_index()\n",
    "df_recency['recency_days'] = ( df2_purchases['invoice_date'].max() - df_recency['invoice_date'] ).dt.days\n",
    "df_recency = df_recency[['customer_id', 'recency_days']].copy()\n",
    "#df_recency['recency_days'] = df_recency['recency_days'].apply( lambda x: 1 / x if x != 0 else 0)\n",
    "df_ref = pd.merge( df_ref, df_recency, on='customer_id', how='left' )\n",
    "\n",
    "df_ref.isna().sum()"
   ]
  },
  {
   "cell_type": "markdown",
   "id": "8f39e7ce",
   "metadata": {},
   "source": [
    "### 3.1.3 Quantity of invoices (orders)"
   ]
  },
  {
   "cell_type": "code",
   "execution_count": 36,
   "id": "dffa44c1",
   "metadata": {},
   "outputs": [
    {
     "data": {
      "text/plain": [
       "customer_id       0\n",
       "gross_revenue    91\n",
       "recency_days     91\n",
       "qtd_invoice      91\n",
       "dtype: int64"
      ]
     },
     "execution_count": 36,
     "metadata": {},
     "output_type": "execute_result"
    }
   ],
   "source": [
    "# Count of how many invoices the customer have\n",
    "df_freq = (df2_purchases[['customer_id', 'invoice_no']].drop_duplicates()\n",
    "                                                       .groupby( 'customer_id' )\n",
    "                                                       .count()\n",
    "                                                       .reset_index()\n",
    "                                                       .rename(columns={'invoice_no':'qtd_invoice'}))\n",
    "df_ref = pd.merge( df_ref, df_freq, on='customer_id', how='left' )\n",
    "df_ref.isna().sum()"
   ]
  },
  {
   "cell_type": "markdown",
   "id": "5dea08b5",
   "metadata": {},
   "source": [
    "### 3.1.4 Quantity of total items bought"
   ]
  },
  {
   "cell_type": "code",
   "execution_count": 37,
   "id": "3c00ee96",
   "metadata": {},
   "outputs": [
    {
     "data": {
      "text/plain": [
       "customer_id       0\n",
       "gross_revenue    91\n",
       "recency_days     91\n",
       "qtd_invoice      91\n",
       "qtd_items        91\n",
       "dtype: int64"
      ]
     },
     "execution_count": 37,
     "metadata": {},
     "output_type": "execute_result"
    }
   ],
   "source": [
    "# Calculate how many items the customer has bought in total\n",
    "df_qtd = df2_purchases.loc[:,['customer_id', 'quantity']].groupby('customer_id').sum().reset_index().rename(columns={'quantity':'qtd_items'})\n",
    "df_ref = pd.merge( df_ref, df_qtd, on='customer_id', how='left' )\n",
    "df_ref.isna().sum()"
   ]
  },
  {
   "cell_type": "markdown",
   "id": "50830d9c",
   "metadata": {},
   "source": [
    "### 3.1.5 Quantity of unique products (stock_code/SKU)"
   ]
  },
  {
   "cell_type": "code",
   "execution_count": 38,
   "id": "65a2d0d4",
   "metadata": {},
   "outputs": [
    {
     "data": {
      "text/plain": [
       "customer_id         0\n",
       "gross_revenue      91\n",
       "recency_days       91\n",
       "qtd_invoice        91\n",
       "qtd_items          91\n",
       "unique_products    91\n",
       "dtype: int64"
      ]
     },
     "execution_count": 38,
     "metadata": {},
     "output_type": "execute_result"
    }
   ],
   "source": [
    "df_stock = df2_purchases.loc[:, ['customer_id', 'stock_code']].drop_duplicates().groupby('customer_id').count().reset_index().rename(columns={'stock_code':'unique_products'})\n",
    "df_ref = pd.merge( df_ref, df_stock, on='customer_id', how='left' )\n",
    "df_ref.isna().sum()"
   ]
  },
  {
   "cell_type": "markdown",
   "id": "d24d83cc",
   "metadata": {},
   "source": [
    "### 3.1.6 Average ticket value"
   ]
  },
  {
   "cell_type": "code",
   "execution_count": 39,
   "id": "d4f30cb4",
   "metadata": {},
   "outputs": [
    {
     "data": {
      "text/plain": [
       "customer_id         0\n",
       "gross_revenue      91\n",
       "recency_days       91\n",
       "qtd_invoice        91\n",
       "qtd_items          91\n",
       "unique_products    91\n",
       "avg_ticket         91\n",
       "dtype: int64"
      ]
     },
     "execution_count": 39,
     "metadata": {},
     "output_type": "execute_result"
    }
   ],
   "source": [
    "# Avg Ticket\n",
    "df_avg_ticket = df2_purchases[['customer_id', 'gross_revenue']].groupby( 'customer_id' ).mean().reset_index().rename( columns={'gross_revenue':'avg_ticket'} )\n",
    "df_ref = pd.merge( df_ref, df_avg_ticket, on='customer_id', how='left')\n",
    "\n",
    "df_ref.isna().sum()"
   ]
  },
  {
   "cell_type": "markdown",
   "id": "c0dbc0ec",
   "metadata": {},
   "source": [
    "### 3.1.7 Average receny days"
   ]
  },
  {
   "cell_type": "code",
   "execution_count": 40,
   "id": "5dc52c6f",
   "metadata": {},
   "outputs": [
    {
     "data": {
      "text/plain": [
       "customer_id            0\n",
       "gross_revenue         91\n",
       "recency_days          91\n",
       "qtd_invoice           91\n",
       "qtd_items             91\n",
       "unique_products       91\n",
       "avg_ticket            91\n",
       "avg_recency_days    2952\n",
       "dtype: int64"
      ]
     },
     "execution_count": 40,
     "metadata": {},
     "output_type": "execute_result"
    }
   ],
   "source": [
    "df_aux = df2_purchases.loc[:,['customer_id', 'invoice_date']].drop_duplicates().sort_values(['customer_id', 'invoice_date'], ascending=[False, False])\n",
    "df_aux['next_customer_id'] = df_aux['customer_id'].shift()\n",
    "df_aux['previous_date'] = df_aux['invoice_date'].shift()\n",
    "\n",
    "df_aux['avg_recency_days'] = df_aux.apply(lambda x: (x['previous_date'] - x['invoice_date']).days if x['customer_id']==x['next_customer_id'] else np.nan, axis=1)\n",
    "\n",
    "df_aux = df_aux.drop(['invoice_date', 'next_customer_id', 'previous_date'], axis=1).dropna()\n",
    "\n",
    "# Now we have how many days from last purchase, we will get the mean days between orders\n",
    "df_aux = df_aux.groupby('customer_id').mean().reset_index()\n",
    "\n",
    "df_ref = pd.merge( df_ref, df_aux, on='customer_id', how='left')\n",
    "\n",
    "df_ref.isna().sum()"
   ]
  },
  {
   "cell_type": "markdown",
   "id": "bba651ac",
   "metadata": {},
   "source": [
    "### 3.1.8 Frequency purchase"
   ]
  },
  {
   "cell_type": "code",
   "execution_count": 41,
   "id": "cb92616d",
   "metadata": {},
   "outputs": [
    {
     "data": {
      "text/plain": [
       "customer_id            0\n",
       "gross_revenue         91\n",
       "recency_days          91\n",
       "qtd_invoice           91\n",
       "qtd_items             91\n",
       "unique_products       91\n",
       "avg_ticket            91\n",
       "avg_recency_days    2952\n",
       "frequency             91\n",
       "dtype: int64"
      ]
     },
     "execution_count": 41,
     "metadata": {},
     "output_type": "execute_result"
    }
   ],
   "source": [
    "df_aux = (df2_purchases.loc[:,['customer_id', 'invoice_no', 'invoice_date']].drop_duplicates()\n",
    "                                                                            .groupby('customer_id')\n",
    "                                                                            .agg(max_ = ('invoice_date','max'),\n",
    "                                                                                 min_ = ('invoice_date','min'),\n",
    "                                                                                 days_ = ('invoice_date', lambda x: (x.max()-x.min()).days + 1),\n",
    "                                                                                 buy_ = ('invoice_no','count')\n",
    "                                                                                )\n",
    "                                                                            .reset_index())\n",
    "\n",
    "# How many purchases per day the customer have\n",
    "df_aux['frequency'] = df_aux[['buy_', 'days_']].apply(lambda x: x['buy_']/x['days_'] if x['days_'] != 0 else 0, axis=1)\n",
    "\n",
    "df_aux = df_aux.drop(['max_', 'min_', 'days_', 'buy_'], axis=1)\n",
    "\n",
    "df_ref = pd.merge(df_ref, df_aux, on='customer_id', how='left')\n",
    "\n",
    "df_ref.isna().sum()"
   ]
  },
  {
   "cell_type": "markdown",
   "id": "5f3176db",
   "metadata": {},
   "source": [
    "### 3.1.9 Total returns"
   ]
  },
  {
   "cell_type": "code",
   "execution_count": 42,
   "id": "185a2905",
   "metadata": {},
   "outputs": [
    {
     "data": {
      "text/plain": [
       "customer_id            0\n",
       "gross_revenue         91\n",
       "recency_days          91\n",
       "qtd_invoice           91\n",
       "qtd_items             91\n",
       "unique_products       91\n",
       "avg_ticket            91\n",
       "avg_recency_days    2952\n",
       "frequency             91\n",
       "qtd_returns            0\n",
       "dtype: int64"
      ]
     },
     "execution_count": 42,
     "metadata": {},
     "output_type": "execute_result"
    }
   ],
   "source": [
    "df_aux = df2_returns.loc[:, ['customer_id', 'quantity']].groupby('customer_id').sum().reset_index().rename(columns={'quantity':'qtd_returns'})\n",
    "df_aux['qtd_returns'] = df_aux['qtd_returns'] *-1\n",
    "\n",
    "df_ref = pd.merge( df_ref, df_aux, how='left', on='customer_id' )\n",
    "\n",
    "# Input zero for customers that not have any returns\n",
    "df_ref.loc[df_ref['qtd_returns'].isna(), 'qtd_returns'] = 0\n",
    "\n",
    "df_ref.isna().sum()"
   ]
  },
  {
   "cell_type": "markdown",
   "id": "07b1ba8e",
   "metadata": {},
   "source": [
    "### 3.1.10 Basket size - Quantity of items per order"
   ]
  },
  {
   "cell_type": "code",
   "execution_count": 43,
   "id": "8b9d8299",
   "metadata": {},
   "outputs": [
    {
     "data": {
      "text/plain": [
       "customer_id            0\n",
       "gross_revenue         91\n",
       "recency_days          91\n",
       "qtd_invoice           91\n",
       "qtd_items             91\n",
       "unique_products       91\n",
       "avg_ticket            91\n",
       "avg_recency_days    2952\n",
       "frequency             91\n",
       "qtd_returns            0\n",
       "avg_basket_size       91\n",
       "dtype: int64"
      ]
     },
     "execution_count": 43,
     "metadata": {},
     "output_type": "execute_result"
    }
   ],
   "source": [
    "df_aux = (df2_purchases.loc[:, ['customer_id', 'invoice_no', 'quantity']].groupby('customer_id')\n",
    "                                                                         .agg(n_purchase=('invoice_no', 'nunique'), \n",
    "                                                                              n_products=('quantity', 'sum'))\n",
    "                                                                         .reset_index())\n",
    "# Calculate the average products bought per order\n",
    "df_aux['avg_basket_size'] = df_aux['n_products'] / df_aux['n_purchase']\n",
    "\n",
    "df_aux = df_aux.drop(columns=['n_purchase', 'n_products'], axis=1)\n",
    "\n",
    "df_ref = pd.merge( df_ref, df_aux, how='left', on='customer_id' )\n",
    "df_ref.isna().sum()"
   ]
  },
  {
   "cell_type": "markdown",
   "id": "dec06553",
   "metadata": {},
   "source": [
    "### 3.1.11 Unique basket size - Unique items per order"
   ]
  },
  {
   "cell_type": "code",
   "execution_count": 44,
   "id": "3c9fcb70",
   "metadata": {},
   "outputs": [
    {
     "data": {
      "text/plain": [
       "customer_id                  0\n",
       "gross_revenue               91\n",
       "recency_days                91\n",
       "qtd_invoice                 91\n",
       "qtd_items                   91\n",
       "unique_products             91\n",
       "avg_ticket                  91\n",
       "avg_recency_days          2952\n",
       "frequency                   91\n",
       "qtd_returns                  0\n",
       "avg_basket_size             91\n",
       "avg_unique_basket_size      91\n",
       "dtype: int64"
      ]
     },
     "execution_count": 44,
     "metadata": {},
     "output_type": "execute_result"
    }
   ],
   "source": [
    "df_aux = (df2_purchases.loc[:, ['customer_id', 'invoice_no', 'stock_code']].groupby('customer_id')\n",
    "                                                                         .agg(n_purchase=('invoice_no', 'nunique'), \n",
    "                                                                              n_products=('stock_code', 'nunique'))\n",
    "                                                                         .reset_index())\n",
    "# Calculate the average products bought per order\n",
    "df_aux['avg_unique_basket_size'] = df_aux['n_products'] / df_aux['n_purchase']\n",
    "\n",
    "df_aux = df_aux.drop(columns=['n_purchase', 'n_products'], axis=1)\n",
    "\n",
    "df_ref = pd.merge( df_ref, df_aux, how='left', on='customer_id' )\n",
    "df_ref.isna().sum()"
   ]
  },
  {
   "cell_type": "markdown",
   "id": "dbcc5fcb",
   "metadata": {
    "heading_collapsed": true,
    "jp-MarkdownHeadingCollapsed": true
   },
   "source": [
    "# 4.0 EDA - Análise exploratória dos dados"
   ]
  },
  {
   "cell_type": "code",
   "execution_count": 45,
   "id": "9bebd242",
   "metadata": {
    "ExecuteTime": {
     "end_time": "2023-12-11T17:36:40.937998Z",
     "start_time": "2023-12-11T17:36:40.927512Z"
    },
    "hidden": true
   },
   "outputs": [
    {
     "data": {
      "text/plain": [
       "customer_id               0\n",
       "gross_revenue             0\n",
       "recency_days              0\n",
       "qtd_invoice               0\n",
       "qtd_items                 0\n",
       "unique_products           0\n",
       "avg_ticket                0\n",
       "avg_recency_days          0\n",
       "frequency                 0\n",
       "qtd_returns               0\n",
       "avg_basket_size           0\n",
       "avg_unique_basket_size    0\n",
       "dtype: int64"
      ]
     },
     "execution_count": 45,
     "metadata": {},
     "output_type": "execute_result"
    }
   ],
   "source": [
    "df4 = df_ref.dropna()\n",
    "df4.isna().sum()"
   ]
  },
  {
   "cell_type": "markdown",
   "id": "6d9092fb",
   "metadata": {
    "heading_collapsed": true,
    "hidden": true
   },
   "source": [
    "## 4.3 Estudo dos espaços"
   ]
  },
  {
   "cell_type": "code",
   "execution_count": 46,
   "id": "33655cd2",
   "metadata": {},
   "outputs": [],
   "source": [
    "df43 = df4.drop(columns=['customer_id'], axis=1).copy()"
   ]
  },
  {
   "cell_type": "markdown",
   "id": "8774a5fb",
   "metadata": {},
   "source": [
    "### 4.3.4 Tree based embedding"
   ]
  },
  {
   "cell_type": "code",
   "execution_count": 47,
   "metadata": {},
   "outputs": [],
   "source": [
    "# training dataset\n",
    "X = df43.drop( columns=['gross_revenue'], axis=1 )\n",
    "y = df43['gross_revenue']\n",
    "\n",
    "# model definition\n",
    "rf_model = en.RandomForestRegressor( n_estimators=100, random_state=42 )\n",
    "\n",
    "# model training\n",
    "rf_model.fit( X, y )\n",
    "\n",
    "# predict\n",
    "df_leaf = pd.DataFrame( rf_model.apply( X ) )"
   ]
  },
  {
   "cell_type": "markdown",
   "id": "6fca7df7",
   "metadata": {},
   "source": [
    "#### 4.3.4.1 UMAP embedding"
   ]
  },
  {
   "cell_type": "code",
   "execution_count": 52,
   "id": "4e7bafa7",
   "metadata": {},
   "outputs": [
    {
     "name": "stderr",
     "output_type": "stream",
     "text": [
      "c:\\Users\\Gabriel\\anaconda3\\envs\\customer_deploy\\lib\\site-packages\\umap\\umap_.py:1943: UserWarning: n_jobs value -1 overridden to 1 by setting random_state. Use no seed for parallelism.\n",
      "  warn(f\"n_jobs value {self.n_jobs} overridden to 1 by setting random_state. Use no seed for parallelism.\")\n"
     ]
    }
   ],
   "source": [
    "# Reduzer dimensionality\n",
    "reducer = umap.UMAP( random_state=42 )\n",
    "embedding = reducer.fit_transform( df_leaf )\n",
    "\n",
    "# embedding\n",
    "df_tree = pd.DataFrame()\n",
    "df_tree['embedding_x'] = embedding[:, 0]\n",
    "df_tree['embedding_y'] = embedding[:, 1]"
   ]
  },
  {
   "cell_type": "markdown",
   "id": "34dcd39c",
   "metadata": {
    "heading_collapsed": true,
    "jp-MarkdownHeadingCollapsed": true
   },
   "source": [
    "# 5.0 Data Preparation"
   ]
  },
  {
   "cell_type": "code",
   "execution_count": 53,
   "id": "026dedd0",
   "metadata": {
    "ExecuteTime": {
     "end_time": "2023-12-12T15:15:14.956156Z",
     "start_time": "2023-12-12T15:15:14.945589Z"
    },
    "hidden": true
   },
   "outputs": [],
   "source": [
    "df5 = df4.copy()"
   ]
  },
  {
   "cell_type": "markdown",
   "id": "a182f4f8",
   "metadata": {
    "heading_collapsed": true,
    "jp-MarkdownHeadingCollapsed": true
   },
   "source": [
    "# 6.0 Feature selection"
   ]
  },
  {
   "cell_type": "code",
   "execution_count": 54,
   "id": "c8ef1e51",
   "metadata": {
    "ExecuteTime": {
     "end_time": "2023-12-12T14:17:55.371490Z",
     "start_time": "2023-12-12T14:17:55.318956Z"
    },
    "hidden": true
   },
   "outputs": [],
   "source": [
    "df6 = df5.copy()"
   ]
  },
  {
   "cell_type": "markdown",
   "id": "0ea6b68d",
   "metadata": {
    "heading_collapsed": true
   },
   "source": [
    "# 7.0 Hyperparameter Fine-Tunning"
   ]
  },
  {
   "cell_type": "code",
   "execution_count": 55,
   "id": "d63177fd",
   "metadata": {},
   "outputs": [],
   "source": [
    "df7 = df_tree.copy()\n",
    "X = df7.copy()"
   ]
  },
  {
   "cell_type": "markdown",
   "id": "c55a4924",
   "metadata": {
    "heading_collapsed": true
   },
   "source": [
    "# 8.0 Machine Learning Modeling"
   ]
  },
  {
   "cell_type": "markdown",
   "id": "8fe3247e",
   "metadata": {},
   "source": [
    "## 8.1 K-Means"
   ]
  },
  {
   "cell_type": "code",
   "execution_count": 58,
   "id": "e8637495",
   "metadata": {},
   "outputs": [],
   "source": [
    "# Model definition\n",
    "k = 10\n",
    "kmeans = c.KMeans(n_clusters=k, n_init=10, random_state=42)\n",
    "\n",
    "# model training\n",
    "kmeans.fit( X )\n",
    "\n",
    "# clustering\n",
    "labels = kmeans.labels_"
   ]
  },
  {
   "cell_type": "markdown",
   "id": "c18bafc6",
   "metadata": {},
   "source": [
    "### 8.1.1 Cluster validation"
   ]
  },
  {
   "cell_type": "code",
   "execution_count": 59,
   "id": "6cb0c969",
   "metadata": {},
   "outputs": [
    {
     "name": "stdout",
     "output_type": "stream",
     "text": [
      "WSS value: 15870.302734375\n",
      "SS value: 0.6369400024414062\n"
     ]
    }
   ],
   "source": [
    "## WSS ( Within-cluster sum of square)\n",
    "print( 'WSS value: {}'.format( kmeans.inertia_ ) )\n",
    "\n",
    "## SS ( Silhouette Score )\n",
    "print( 'SS value: {}'.format( m.silhouette_score( X, labels, metric='euclidean' ) ) )"
   ]
  },
  {
   "cell_type": "markdown",
   "id": "f4954f79-cbe7-402c-bbbe-e1b1b77ec2c6",
   "metadata": {
    "heading_collapsed": true
   },
   "source": [
    "# 9.0 Cluster analysis"
   ]
  },
  {
   "cell_type": "markdown",
   "id": "ea499c40",
   "metadata": {},
   "source": [
    "## 9.2 Cluster profile"
   ]
  },
  {
   "cell_type": "code",
   "execution_count": 75,
   "id": "7fe03719",
   "metadata": {},
   "outputs": [],
   "source": [
    "df92 = df4.copy()\n",
    "df92['cluster'] = labels"
   ]
  },
  {
   "cell_type": "code",
   "execution_count": 76,
   "id": "dcd9ac0a",
   "metadata": {},
   "outputs": [],
   "source": [
    "# Number of customer\n",
    "df_cluster = df92[['customer_id', 'cluster']].groupby( 'cluster' ).count().reset_index()\n",
    "df_cluster['perc_customer'] = 100*( df_cluster['customer_id'] / df_cluster['customer_id'].sum() )\n",
    "\n",
    "# Avg Gross revenue\n",
    "df_avg_gross_revenue = df92[['gross_revenue', 'cluster']].groupby( 'cluster' ).mean().reset_index()\n",
    "df_cluster = pd.merge( df_cluster, df_avg_gross_revenue, how='inner', on='cluster' )\n",
    "\n",
    "# Avg recency days\n",
    "df_avg_recency_days = df92[['recency_days', 'cluster']].groupby( 'cluster' ).mean().reset_index()\n",
    "df_cluster = pd.merge( df_cluster, df_avg_recency_days, how='inner', on='cluster' )\n",
    "\n",
    "# Avg invoice_no\n",
    "df_qtde_products = df92[['qtd_invoice', 'cluster']].groupby( 'cluster' ).mean().reset_index()\n",
    "df_cluster = pd.merge( df_cluster, df_qtde_products, how='inner', on='cluster' )\n",
    "\n",
    "# Frequency\n",
    "df_frequency = df92[['frequency', 'cluster']].groupby( 'cluster' ).mean().reset_index()\n",
    "df_cluster = pd.merge( df_cluster, df_frequency, how='inner', on='cluster' )\n",
    "\n",
    "# Returns\n",
    "df_qtde_returns = df92[['qtd_returns', 'cluster']].groupby( 'cluster' ).mean().reset_index()\n",
    "df_cluster = pd.merge( df_cluster, df_qtde_returns, how='inner', on='cluster' )"
   ]
  },
  {
   "cell_type": "markdown",
   "id": "e4054087",
   "metadata": {},
   "source": [
    "# 10.0 Deploy"
   ]
  },
  {
   "cell_type": "code",
   "execution_count": 77,
   "id": "1c9593dc",
   "metadata": {},
   "outputs": [
    {
     "data": {
      "text/html": [
       "<div>\n",
       "<style scoped>\n",
       "    .dataframe tbody tr th:only-of-type {\n",
       "        vertical-align: middle;\n",
       "    }\n",
       "\n",
       "    .dataframe tbody tr th {\n",
       "        vertical-align: top;\n",
       "    }\n",
       "\n",
       "    .dataframe thead th {\n",
       "        text-align: right;\n",
       "    }\n",
       "</style>\n",
       "<table border=\"1\" class=\"dataframe\">\n",
       "  <thead>\n",
       "    <tr style=\"text-align: right;\">\n",
       "      <th></th>\n",
       "      <th>cluster</th>\n",
       "      <th>customer_id</th>\n",
       "      <th>perc_customer</th>\n",
       "      <th>gross_revenue</th>\n",
       "      <th>recency_days</th>\n",
       "      <th>qtd_invoice</th>\n",
       "      <th>frequency</th>\n",
       "      <th>qtd_returns</th>\n",
       "    </tr>\n",
       "  </thead>\n",
       "  <tbody>\n",
       "    <tr>\n",
       "      <th>0</th>\n",
       "      <td>0</td>\n",
       "      <td>432</td>\n",
       "      <td>15.243472</td>\n",
       "      <td>583.812130</td>\n",
       "      <td>79.518519</td>\n",
       "      <td>2.819444</td>\n",
       "      <td>0.107449</td>\n",
       "      <td>3.472222</td>\n",
       "    </tr>\n",
       "    <tr>\n",
       "      <th>1</th>\n",
       "      <td>1</td>\n",
       "      <td>162</td>\n",
       "      <td>5.716302</td>\n",
       "      <td>2208.542654</td>\n",
       "      <td>41.586420</td>\n",
       "      <td>5.067901</td>\n",
       "      <td>0.041802</td>\n",
       "      <td>20.925926</td>\n",
       "    </tr>\n",
       "    <tr>\n",
       "      <th>2</th>\n",
       "      <td>2</td>\n",
       "      <td>310</td>\n",
       "      <td>10.938603</td>\n",
       "      <td>1596.333581</td>\n",
       "      <td>40.380645</td>\n",
       "      <td>6.187097</td>\n",
       "      <td>0.029881</td>\n",
       "      <td>14.261290</td>\n",
       "    </tr>\n",
       "    <tr>\n",
       "      <th>3</th>\n",
       "      <td>3</td>\n",
       "      <td>297</td>\n",
       "      <td>10.479887</td>\n",
       "      <td>850.362525</td>\n",
       "      <td>73.535354</td>\n",
       "      <td>3.235690</td>\n",
       "      <td>0.103294</td>\n",
       "      <td>6.404040</td>\n",
       "    </tr>\n",
       "    <tr>\n",
       "      <th>4</th>\n",
       "      <td>4</td>\n",
       "      <td>291</td>\n",
       "      <td>10.268172</td>\n",
       "      <td>15196.463333</td>\n",
       "      <td>20.398625</td>\n",
       "      <td>19.347079</td>\n",
       "      <td>0.102779</td>\n",
       "      <td>225.395189</td>\n",
       "    </tr>\n",
       "    <tr>\n",
       "      <th>5</th>\n",
       "      <td>5</td>\n",
       "      <td>342</td>\n",
       "      <td>12.067749</td>\n",
       "      <td>1178.527398</td>\n",
       "      <td>66.596491</td>\n",
       "      <td>2.771930</td>\n",
       "      <td>0.099915</td>\n",
       "      <td>10.774854</td>\n",
       "    </tr>\n",
       "    <tr>\n",
       "      <th>6</th>\n",
       "      <td>6</td>\n",
       "      <td>386</td>\n",
       "      <td>13.620325</td>\n",
       "      <td>349.442383</td>\n",
       "      <td>100.994819</td>\n",
       "      <td>2.461140</td>\n",
       "      <td>0.201487</td>\n",
       "      <td>2.466321</td>\n",
       "    </tr>\n",
       "    <tr>\n",
       "      <th>7</th>\n",
       "      <td>7</td>\n",
       "      <td>205</td>\n",
       "      <td>7.233592</td>\n",
       "      <td>2365.010829</td>\n",
       "      <td>43.536585</td>\n",
       "      <td>6.097561</td>\n",
       "      <td>0.040664</td>\n",
       "      <td>18.009756</td>\n",
       "    </tr>\n",
       "    <tr>\n",
       "      <th>8</th>\n",
       "      <td>8</td>\n",
       "      <td>220</td>\n",
       "      <td>7.762879</td>\n",
       "      <td>3820.959318</td>\n",
       "      <td>26.677273</td>\n",
       "      <td>10.068182</td>\n",
       "      <td>0.115119</td>\n",
       "      <td>35.645455</td>\n",
       "    </tr>\n",
       "    <tr>\n",
       "      <th>9</th>\n",
       "      <td>9</td>\n",
       "      <td>189</td>\n",
       "      <td>6.669019</td>\n",
       "      <td>1913.410582</td>\n",
       "      <td>40.211640</td>\n",
       "      <td>5.253968</td>\n",
       "      <td>0.050315</td>\n",
       "      <td>22.201058</td>\n",
       "    </tr>\n",
       "  </tbody>\n",
       "</table>\n",
       "</div>"
      ],
      "text/plain": [
       "   cluster  customer_id  perc_customer  gross_revenue  recency_days  \\\n",
       "0        0          432      15.243472     583.812130     79.518519   \n",
       "1        1          162       5.716302    2208.542654     41.586420   \n",
       "2        2          310      10.938603    1596.333581     40.380645   \n",
       "3        3          297      10.479887     850.362525     73.535354   \n",
       "4        4          291      10.268172   15196.463333     20.398625   \n",
       "5        5          342      12.067749    1178.527398     66.596491   \n",
       "6        6          386      13.620325     349.442383    100.994819   \n",
       "7        7          205       7.233592    2365.010829     43.536585   \n",
       "8        8          220       7.762879    3820.959318     26.677273   \n",
       "9        9          189       6.669019    1913.410582     40.211640   \n",
       "\n",
       "   qtd_invoice  frequency  qtd_returns  \n",
       "0     2.819444   0.107449     3.472222  \n",
       "1     5.067901   0.041802    20.925926  \n",
       "2     6.187097   0.029881    14.261290  \n",
       "3     3.235690   0.103294     6.404040  \n",
       "4    19.347079   0.102779   225.395189  \n",
       "5     2.771930   0.099915    10.774854  \n",
       "6     2.461140   0.201487     2.466321  \n",
       "7     6.097561   0.040664    18.009756  \n",
       "8    10.068182   0.115119    35.645455  \n",
       "9     5.253968   0.050315    22.201058  "
      ]
     },
     "execution_count": 77,
     "metadata": {},
     "output_type": "execute_result"
    }
   ],
   "source": [
    "df_cluster"
   ]
  },
  {
   "cell_type": "code",
   "execution_count": 78,
   "id": "c94a1dba",
   "metadata": {},
   "outputs": [],
   "source": [
    "import sqlite3"
   ]
  },
  {
   "cell_type": "code",
   "execution_count": 3,
   "id": "9d9b7dff",
   "metadata": {},
   "outputs": [],
   "source": [
    "from sqlalchemy import create_engine"
   ]
  },
  {
   "cell_type": "code",
   "execution_count": null,
   "id": "9fb5ff72",
   "metadata": {},
   "outputs": [],
   "source": []
  },
  {
   "cell_type": "code",
   "execution_count": 4,
   "id": "8f7ec1e9",
   "metadata": {},
   "outputs": [],
   "source": [
    "# query\n",
    "query_create_table_insiders = \"\"\"\n",
    "    CREATE TABLE insiders (\n",
    "    cluster         INTEGER,\n",
    "    customer_id     INTEGER,\n",
    "    perc_customer   REAL,\n",
    "    gross_revenue   REAL,\n",
    "    recency_days    REAL,\n",
    "    qtd_invoice     REAL,\n",
    "    frequency       REAL,\n",
    "    qtd_returns REAL\n",
    "    )\n",
    "\"\"\"\n",
    "# database connection\n",
    "host=os.environ.get('AWS_DB_HOST')\n",
    "port=os.environ.get('AWS_DB_PORT')\n",
    "database=os.environ.get('AWS_DB_DATABASE')\n",
    "user=os.environ.get('AWS_DB_USER')\n",
    "pwd=os.environ.get('AWS_DB_PWD')\n",
    "\n",
    "# connection string\n",
    "endpoint = f'postgresql://{user}:{pwd}@{host}:{port}/{database}'\n",
    "conn = create_engine(endpoint)\n",
    "\n",
    "# execute query\n",
    "#conn.execute(query_create_table_insiders)\n"
   ]
  },
  {
   "cell_type": "code",
   "execution_count": 5,
   "id": "8ff9d547",
   "metadata": {},
   "outputs": [
    {
     "ename": "NameError",
     "evalue": "name 'df_cluster' is not defined",
     "output_type": "error",
     "traceback": [
      "\u001b[1;31m---------------------------------------------------------------------------\u001b[0m",
      "\u001b[1;31mNameError\u001b[0m                                 Traceback (most recent call last)",
      "Cell \u001b[1;32mIn[5], line 2\u001b[0m\n\u001b[0;32m      1\u001b[0m \u001b[38;5;66;03m# insert data\u001b[39;00m\n\u001b[1;32m----> 2\u001b[0m \u001b[43mdf_cluster\u001b[49m\u001b[38;5;241m.\u001b[39mto_sql(\u001b[38;5;124m'\u001b[39m\u001b[38;5;124minsiders\u001b[39m\u001b[38;5;124m'\u001b[39m, con\u001b[38;5;241m=\u001b[39mconn, if_exists\u001b[38;5;241m=\u001b[39m\u001b[38;5;124m'\u001b[39m\u001b[38;5;124mappend\u001b[39m\u001b[38;5;124m'\u001b[39m, index\u001b[38;5;241m=\u001b[39m\u001b[38;5;28;01mFalse\u001b[39;00m)\n\u001b[0;32m      3\u001b[0m conn\u001b[38;5;241m.\u001b[39mclose()\n",
      "\u001b[1;31mNameError\u001b[0m: name 'df_cluster' is not defined"
     ]
    }
   ],
   "source": [
    "# insert data\n",
    "df_cluster.to_sql('insiders', con=conn, if_exists='append', index=False)\n",
    "conn.close()"
   ]
  }
 ],
 "metadata": {
  "kernelspec": {
   "display_name": "Python 3 (ipykernel)",
   "language": "python",
   "name": "python3"
  },
  "language_info": {
   "codemirror_mode": {
    "name": "ipython",
    "version": 3
   },
   "file_extension": ".py",
   "mimetype": "text/x-python",
   "name": "python",
   "nbconvert_exporter": "python",
   "pygments_lexer": "ipython3",
   "version": "3.10.13"
  },
  "varInspector": {
   "cols": {
    "lenName": 16,
    "lenType": 16,
    "lenVar": 40
   },
   "kernels_config": {
    "python": {
     "delete_cmd_postfix": "",
     "delete_cmd_prefix": "del ",
     "library": "var_list.py",
     "varRefreshCmd": "print(var_dic_list())"
    },
    "r": {
     "delete_cmd_postfix": ") ",
     "delete_cmd_prefix": "rm(",
     "library": "var_list.r",
     "varRefreshCmd": "cat(var_dic_list()) "
    }
   },
   "types_to_exclude": [
    "module",
    "function",
    "builtin_function_or_method",
    "instance",
    "_Feature"
   ],
   "window_display": false
  }
 },
 "nbformat": 4,
 "nbformat_minor": 5
}
