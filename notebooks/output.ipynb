{
 "cells": [
  {
   "cell_type": "markdown",
   "id": "95e0015b",
   "metadata": {
    "papermill": {
     "duration": 0.014961,
     "end_time": "2024-03-04T15:24:19.386202",
     "exception": false,
     "start_time": "2024-03-04T15:24:19.371241",
     "status": "completed"
    },
    "tags": []
   },
   "source": [
    "# 0.0 Imports"
   ]
  },
  {
   "cell_type": "code",
   "execution_count": 1,
   "id": "f32bc2e5",
   "metadata": {
    "ExecuteTime": {
     "end_time": "2023-12-21T02:17:29.358532Z",
     "start_time": "2023-12-21T02:17:26.139094Z"
    },
    "execution": {
     "iopub.execute_input": "2024-03-04T15:24:19.414356Z",
     "iopub.status.busy": "2024-03-04T15:24:19.413362Z",
     "iopub.status.idle": "2024-03-04T15:24:27.022938Z",
     "shell.execute_reply": "2024-03-04T15:24:27.021833Z"
    },
    "papermill": {
     "duration": 7.626196,
     "end_time": "2024-03-04T15:24:27.025541",
     "exception": false,
     "start_time": "2024-03-04T15:24:19.399345",
     "status": "completed"
    },
    "tags": []
   },
   "outputs": [
    {
     "name": "stderr",
     "output_type": "stream",
     "text": [
      "/home/ubuntu/.pyenv/versions/3.10.0/envs/cluster/lib/python3.10/site-packages/tqdm/auto.py:21: TqdmWarning: IProgress not found. Please update jupyter and ipywidgets. See https://ipywidgets.readthedocs.io/en/stable/user_install.html\n",
      "  from .autonotebook import tqdm as notebook_tqdm\n"
     ]
    }
   ],
   "source": [
    "import pandas as pd\n",
    "import numpy  as np\n",
    "\n",
    "import inflection\n",
    "import s3fs\n",
    "import umap\n",
    "import os\n",
    "\n",
    "from sklearn import preprocessing as pp\n",
    "from sklearn import cluster as c\n",
    "from sklearn import metrics as m\n",
    "from sklearn import decomposition as dd\n",
    "from sklearn import manifold as mn\n",
    "from sklearn import ensemble as en\n",
    "from sklearn import mixture as mx\n",
    "from sklearn.neighbors import NearestNeighbors\n",
    "\n",
    "from scipy.cluster import hierarchy as hc"
   ]
  },
  {
   "cell_type": "markdown",
   "id": "be1ccd49",
   "metadata": {
    "papermill": {
     "duration": 0.013197,
     "end_time": "2024-03-04T15:24:27.052454",
     "exception": false,
     "start_time": "2024-03-04T15:24:27.039257",
     "status": "completed"
    },
    "tags": []
   },
   "source": [
    "## 0.1 Helper functions"
   ]
  },
  {
   "cell_type": "code",
   "execution_count": 2,
   "id": "a9310d1c",
   "metadata": {
    "ExecuteTime": {
     "end_time": "2023-12-21T02:17:30.388881Z",
     "start_time": "2023-12-21T02:17:30.367991Z"
    },
    "code_folding": [
     99
    ],
    "execution": {
     "iopub.execute_input": "2024-03-04T15:24:27.080766Z",
     "iopub.status.busy": "2024-03-04T15:24:27.079585Z",
     "iopub.status.idle": "2024-03-04T15:24:27.086320Z",
     "shell.execute_reply": "2024-03-04T15:24:27.085429Z"
    },
    "papermill": {
     "duration": 0.023158,
     "end_time": "2024-03-04T15:24:27.088488",
     "exception": false,
     "start_time": "2024-03-04T15:24:27.065330",
     "status": "completed"
    },
    "tags": []
   },
   "outputs": [],
   "source": [
    "def rename_columns(dataframe):\n",
    "    df = dataframe.copy()\n",
    "    title = lambda x: inflection.titleize(x)\n",
    "    snakecase = lambda x: inflection.underscore(x)\n",
    "    spaces = lambda x: x.replace(\" \", \"\")\n",
    "    cols_old = list(df.columns)\n",
    "    #cols_old = list(map(title, cols_old))\n",
    "    cols_old = list(map(spaces, cols_old))\n",
    "    cols_new = list(map(snakecase, cols_old))\n",
    "    df.columns = cols_new\n",
    "    return df"
   ]
  },
  {
   "cell_type": "markdown",
   "id": "86361f26",
   "metadata": {
    "jp-MarkdownHeadingCollapsed": true,
    "papermill": {
     "duration": 0.012764,
     "end_time": "2024-03-04T15:24:27.114415",
     "exception": false,
     "start_time": "2024-03-04T15:24:27.101651",
     "status": "completed"
    },
    "tags": []
   },
   "source": [
    "## 0.2 Loading data"
   ]
  },
  {
   "cell_type": "code",
   "execution_count": 3,
   "id": "95e7c66c",
   "metadata": {
    "execution": {
     "iopub.execute_input": "2024-03-04T15:24:27.142462Z",
     "iopub.status.busy": "2024-03-04T15:24:27.141523Z",
     "iopub.status.idle": "2024-03-04T15:24:27.145958Z",
     "shell.execute_reply": "2024-03-04T15:24:27.145099Z"
    },
    "papermill": {
     "duration": 0.020766,
     "end_time": "2024-03-04T15:24:27.147995",
     "exception": false,
     "start_time": "2024-03-04T15:24:27.127229",
     "status": "completed"
    },
    "tags": []
   },
   "outputs": [],
   "source": [
    "path_s3 = 's3://insiders-cluster'"
   ]
  },
  {
   "cell_type": "code",
   "execution_count": 4,
   "id": "0e4d5ad4",
   "metadata": {
    "ExecuteTime": {
     "end_time": "2023-12-21T02:17:35.550185Z",
     "start_time": "2023-12-21T02:17:35.092669Z"
    },
    "execution": {
     "iopub.execute_input": "2024-03-04T15:24:27.176592Z",
     "iopub.status.busy": "2024-03-04T15:24:27.175576Z",
     "iopub.status.idle": "2024-03-04T15:25:30.962127Z",
     "shell.execute_reply": "2024-03-04T15:25:30.960901Z"
    },
    "papermill": {
     "duration": 63.803424,
     "end_time": "2024-03-04T15:25:30.964704",
     "exception": false,
     "start_time": "2024-03-04T15:24:27.161280",
     "status": "completed"
    },
    "tags": []
   },
   "outputs": [],
   "source": [
    "df_raw = pd.read_excel(path_s3 + '/Online Retail.xlsx')"
   ]
  },
  {
   "cell_type": "markdown",
   "id": "0f7caf1c",
   "metadata": {
    "heading_collapsed": true,
    "jp-MarkdownHeadingCollapsed": true,
    "papermill": {
     "duration": 0.012743,
     "end_time": "2024-03-04T15:25:30.991071",
     "exception": false,
     "start_time": "2024-03-04T15:25:30.978328",
     "status": "completed"
    },
    "tags": []
   },
   "source": [
    "# 1.0 Data description"
   ]
  },
  {
   "cell_type": "code",
   "execution_count": 5,
   "id": "7f8fd6bc",
   "metadata": {
    "ExecuteTime": {
     "end_time": "2023-12-11T17:36:36.467876Z",
     "start_time": "2023-12-11T17:36:36.454867Z"
    },
    "execution": {
     "iopub.execute_input": "2024-03-04T15:25:31.019274Z",
     "iopub.status.busy": "2024-03-04T15:25:31.018179Z",
     "iopub.status.idle": "2024-03-04T15:25:31.047467Z",
     "shell.execute_reply": "2024-03-04T15:25:31.046260Z"
    },
    "hidden": true,
    "papermill": {
     "duration": 0.046303,
     "end_time": "2024-03-04T15:25:31.050153",
     "exception": false,
     "start_time": "2024-03-04T15:25:31.003850",
     "status": "completed"
    },
    "tags": []
   },
   "outputs": [],
   "source": [
    "df1 = df_raw.copy()"
   ]
  },
  {
   "cell_type": "markdown",
   "id": "d896a545",
   "metadata": {
    "ExecuteTime": {
     "end_time": "2023-03-27T21:49:43.050218Z",
     "start_time": "2023-03-27T21:49:43.043230Z"
    },
    "hidden": true,
    "papermill": {
     "duration": 0.012944,
     "end_time": "2024-03-04T15:25:31.076517",
     "exception": false,
     "start_time": "2024-03-04T15:25:31.063573",
     "status": "completed"
    },
    "tags": []
   },
   "source": [
    "## 1.1 Rename columns"
   ]
  },
  {
   "cell_type": "code",
   "execution_count": 6,
   "id": "4140598b",
   "metadata": {
    "ExecuteTime": {
     "end_time": "2023-12-11T17:36:36.486111Z",
     "start_time": "2023-12-11T17:36:36.468878Z"
    },
    "execution": {
     "iopub.execute_input": "2024-03-04T15:25:31.105051Z",
     "iopub.status.busy": "2024-03-04T15:25:31.104100Z",
     "iopub.status.idle": "2024-03-04T15:25:31.148261Z",
     "shell.execute_reply": "2024-03-04T15:25:31.147112Z"
    },
    "hidden": true,
    "papermill": {
     "duration": 0.061051,
     "end_time": "2024-03-04T15:25:31.150755",
     "exception": false,
     "start_time": "2024-03-04T15:25:31.089704",
     "status": "completed"
    },
    "tags": []
   },
   "outputs": [],
   "source": [
    "# Using the function we created in section 0.1\n",
    "df1 = rename_columns(df1)"
   ]
  },
  {
   "cell_type": "markdown",
   "id": "5cb2ccb1",
   "metadata": {
    "heading_collapsed": true,
    "hidden": true,
    "papermill": {
     "duration": 0.012936,
     "end_time": "2024-03-04T15:25:31.177175",
     "exception": false,
     "start_time": "2024-03-04T15:25:31.164239",
     "status": "completed"
    },
    "tags": []
   },
   "source": [
    "## 1.5 Replace NA "
   ]
  },
  {
   "cell_type": "code",
   "execution_count": 7,
   "id": "51ebb516",
   "metadata": {
    "execution": {
     "iopub.execute_input": "2024-03-04T15:25:31.205686Z",
     "iopub.status.busy": "2024-03-04T15:25:31.204966Z",
     "iopub.status.idle": "2024-03-04T15:25:31.253043Z",
     "shell.execute_reply": "2024-03-04T15:25:31.251968Z"
    },
    "papermill": {
     "duration": 0.065191,
     "end_time": "2024-03-04T15:25:31.255639",
     "exception": false,
     "start_time": "2024-03-04T15:25:31.190448",
     "status": "completed"
    },
    "tags": []
   },
   "outputs": [],
   "source": [
    "# Separando o df com os NA na coluna customer_id\n",
    "df_missing = df1.loc[df1['customer_id'].isna(), :]\n",
    "df_not_missing = df1.loc[~df1['customer_id'].isna(), :]"
   ]
  },
  {
   "cell_type": "code",
   "execution_count": 8,
   "id": "e9791cfd",
   "metadata": {
    "execution": {
     "iopub.execute_input": "2024-03-04T15:25:31.283407Z",
     "iopub.status.busy": "2024-03-04T15:25:31.283034Z",
     "iopub.status.idle": "2024-03-04T15:25:31.635022Z",
     "shell.execute_reply": "2024-03-04T15:25:31.633871Z"
    },
    "papermill": {
     "duration": 0.368789,
     "end_time": "2024-03-04T15:25:31.637715",
     "exception": false,
     "start_time": "2024-03-04T15:25:31.268926",
     "status": "completed"
    },
    "tags": []
   },
   "outputs": [],
   "source": [
    "# Arbitrando um id para os todos os customers que estão sem id\n",
    "\n",
    "# Definindo aleatoriamente para cada invoice unico (drop duplicate)\n",
    "df_backup = pd.DataFrame(df_missing['invoice_no'].drop_duplicates())\n",
    "df_backup['customer_id'] = np.arange(19000, 19000+len(df_backup), 1)\n",
    "\n",
    "# merge original with reference dataframe\n",
    "df1 = pd.merge( df1, df_backup, on='invoice_no', how='left' )\n",
    "\n",
    "# coalesce \n",
    "df1['customer_id'] = df1['customer_id_x'].combine_first( df1['customer_id_y'] )\n",
    "\n",
    "# drop extra columns\n",
    "df1 = df1.drop( columns=['customer_id_x', 'customer_id_y'], axis=1 )"
   ]
  },
  {
   "cell_type": "markdown",
   "id": "213ee073",
   "metadata": {
    "papermill": {
     "duration": 0.013227,
     "end_time": "2024-03-04T15:25:31.664909",
     "exception": false,
     "start_time": "2024-03-04T15:25:31.651682",
     "status": "completed"
    },
    "tags": []
   },
   "source": [
    "## 1.6 Change types"
   ]
  },
  {
   "cell_type": "code",
   "execution_count": 9,
   "id": "66c8b676",
   "metadata": {
    "execution": {
     "iopub.execute_input": "2024-03-04T15:25:31.693681Z",
     "iopub.status.busy": "2024-03-04T15:25:31.692760Z",
     "iopub.status.idle": "2024-03-04T15:25:31.956775Z",
     "shell.execute_reply": "2024-03-04T15:25:31.955533Z"
    },
    "papermill": {
     "duration": 0.281144,
     "end_time": "2024-03-04T15:25:31.959308",
     "exception": false,
     "start_time": "2024-03-04T15:25:31.678164",
     "status": "completed"
    },
    "tags": []
   },
   "outputs": [],
   "source": [
    "# invoice date\n",
    "df1['invoice_date'] = pd.to_datetime( df1['invoice_date'], format='%d-%b-%y')\n",
    "\n",
    "# customer id\n",
    "df1['customer_id'] = df1['customer_id'].astype(int)\n",
    "\n",
    "# invoice number\n",
    "df1['invoice_no'] = df1['invoice_no'].astype(str)\n",
    "\n",
    "# stock code\n",
    "df1['stock_code'] = df1['stock_code'].astype(str)"
   ]
  },
  {
   "cell_type": "markdown",
   "id": "3cb89acc",
   "metadata": {
    "papermill": {
     "duration": 0.013199,
     "end_time": "2024-03-04T15:25:31.986174",
     "exception": false,
     "start_time": "2024-03-04T15:25:31.972975",
     "status": "completed"
    },
    "tags": []
   },
   "source": [
    "# 2.0 Feature filtering"
   ]
  },
  {
   "cell_type": "code",
   "execution_count": 10,
   "id": "533805b7",
   "metadata": {
    "execution": {
     "iopub.execute_input": "2024-03-04T15:25:32.014502Z",
     "iopub.status.busy": "2024-03-04T15:25:32.013764Z",
     "iopub.status.idle": "2024-03-04T15:25:32.143950Z",
     "shell.execute_reply": "2024-03-04T15:25:32.142650Z"
    },
    "papermill": {
     "duration": 0.147645,
     "end_time": "2024-03-04T15:25:32.146737",
     "exception": false,
     "start_time": "2024-03-04T15:25:31.999092",
     "status": "completed"
    },
    "tags": []
   },
   "outputs": [],
   "source": [
    "df2 = df1.copy()"
   ]
  },
  {
   "cell_type": "code",
   "execution_count": 11,
   "id": "dc20472e",
   "metadata": {
    "execution": {
     "iopub.execute_input": "2024-03-04T15:25:32.175099Z",
     "iopub.status.busy": "2024-03-04T15:25:32.174716Z",
     "iopub.status.idle": "2024-03-04T15:25:32.574804Z",
     "shell.execute_reply": "2024-03-04T15:25:32.573660Z"
    },
    "papermill": {
     "duration": 0.417589,
     "end_time": "2024-03-04T15:25:32.577982",
     "exception": false,
     "start_time": "2024-03-04T15:25:32.160393",
     "status": "completed"
    },
    "tags": []
   },
   "outputs": [],
   "source": [
    "# === Numerical attributes ====\n",
    "df2 = df2.loc[df2['unit_price'] >= 0.04, :]\n",
    "\n",
    "# === Categorical attributes ====\n",
    "df2 = df2[~df2['stock_code'].isin( ['POST', 'D', 'DOT', 'M', 'S', 'AMAZONFEE', 'm', 'DCGSSBOY', 'DCGSSGIRL', 'PADS', 'B', 'CRUK'] )]\n",
    "\n",
    "# description\n",
    "df2 = df2.drop( columns='description', axis=1 )\n",
    "\n",
    "# map \n",
    "df2 = df2[~df2['country'].isin( ['European Community', 'Unspecified' ] ) ]\n",
    "\n",
    "# bad users\n",
    "df2 = df2[~df2['customer_id'].isin( [16446] )]\n",
    "\n",
    "# quantity\n",
    "df2_returns = df2.loc[df1['quantity'] < 0, :]\n",
    "df2_purchases = df2.loc[df1['quantity'] >= 0, :]"
   ]
  },
  {
   "cell_type": "markdown",
   "id": "243f49fb",
   "metadata": {
    "heading_collapsed": true,
    "jp-MarkdownHeadingCollapsed": true,
    "papermill": {
     "duration": 0.013181,
     "end_time": "2024-03-04T15:25:32.604895",
     "exception": false,
     "start_time": "2024-03-04T15:25:32.591714",
     "status": "completed"
    },
    "tags": []
   },
   "source": [
    "# 3.0 Feature engineering"
   ]
  },
  {
   "cell_type": "code",
   "execution_count": 12,
   "id": "e1fd81c9",
   "metadata": {
    "ExecuteTime": {
     "end_time": "2023-12-11T17:36:40.669996Z",
     "start_time": "2023-12-11T17:36:40.657833Z"
    },
    "execution": {
     "iopub.execute_input": "2024-03-04T15:25:32.633289Z",
     "iopub.status.busy": "2024-03-04T15:25:32.632890Z",
     "iopub.status.idle": "2024-03-04T15:25:32.667388Z",
     "shell.execute_reply": "2024-03-04T15:25:32.666277Z"
    },
    "hidden": true,
    "papermill": {
     "duration": 0.051719,
     "end_time": "2024-03-04T15:25:32.670069",
     "exception": false,
     "start_time": "2024-03-04T15:25:32.618350",
     "status": "completed"
    },
    "tags": []
   },
   "outputs": [],
   "source": [
    "df3 = df2.copy()"
   ]
  },
  {
   "cell_type": "markdown",
   "id": "3fc07779",
   "metadata": {
    "papermill": {
     "duration": 0.013183,
     "end_time": "2024-03-04T15:25:32.696883",
     "exception": false,
     "start_time": "2024-03-04T15:25:32.683700",
     "status": "completed"
    },
    "tags": []
   },
   "source": [
    "## 3.1 Feature creation"
   ]
  },
  {
   "cell_type": "code",
   "execution_count": 13,
   "id": "e96078ba",
   "metadata": {
    "execution": {
     "iopub.execute_input": "2024-03-04T15:25:32.725623Z",
     "iopub.status.busy": "2024-03-04T15:25:32.724906Z",
     "iopub.status.idle": "2024-03-04T15:25:32.745460Z",
     "shell.execute_reply": "2024-03-04T15:25:32.744350Z"
    },
    "papermill": {
     "duration": 0.037606,
     "end_time": "2024-03-04T15:25:32.747814",
     "exception": false,
     "start_time": "2024-03-04T15:25:32.710208",
     "status": "completed"
    },
    "tags": []
   },
   "outputs": [],
   "source": [
    "cols_drop = ['invoice_no', 'stock_code', 'quantity', 'invoice_date', 'unit_price', 'country']\n",
    "\n",
    "df_ref = df3.drop(cols_drop, axis=1).drop_duplicates(ignore_index=True)"
   ]
  },
  {
   "cell_type": "markdown",
   "id": "412d10f4",
   "metadata": {
    "papermill": {
     "duration": 0.013063,
     "end_time": "2024-03-04T15:25:32.774754",
     "exception": false,
     "start_time": "2024-03-04T15:25:32.761691",
     "status": "completed"
    },
    "tags": []
   },
   "source": [
    "### 3.1.1 Gross Revenue"
   ]
  },
  {
   "cell_type": "code",
   "execution_count": 14,
   "id": "5ab27471",
   "metadata": {
    "execution": {
     "iopub.execute_input": "2024-03-04T15:25:32.803075Z",
     "iopub.status.busy": "2024-03-04T15:25:32.802175Z",
     "iopub.status.idle": "2024-03-04T15:25:32.851802Z",
     "shell.execute_reply": "2024-03-04T15:25:32.850733Z"
    },
    "papermill": {
     "duration": 0.067317,
     "end_time": "2024-03-04T15:25:32.855039",
     "exception": false,
     "start_time": "2024-03-04T15:25:32.787722",
     "status": "completed"
    },
    "tags": []
   },
   "outputs": [
    {
     "name": "stderr",
     "output_type": "stream",
     "text": [
      "/tmp/ipykernel_33072/2433535372.py:2: SettingWithCopyWarning: \n",
      "A value is trying to be set on a copy of a slice from a DataFrame.\n",
      "Try using .loc[row_indexer,col_indexer] = value instead\n",
      "\n",
      "See the caveats in the documentation: https://pandas.pydata.org/pandas-docs/stable/user_guide/indexing.html#returning-a-view-versus-a-copy\n",
      "  df2_purchases['gross_revenue'] = df2_purchases['quantity'] * df2_purchases['unit_price']\n"
     ]
    },
    {
     "data": {
      "text/plain": [
       "customer_id       0\n",
       "gross_revenue    91\n",
       "dtype: int64"
      ]
     },
     "execution_count": 14,
     "metadata": {},
     "output_type": "execute_result"
    }
   ],
   "source": [
    "# Gross Revenue\n",
    "df2_purchases['gross_revenue'] = df2_purchases['quantity'] * df2_purchases['unit_price']\n",
    "\n",
    "# Monetary\n",
    "df_monetary = df2_purchases[['customer_id', 'gross_revenue']].groupby('customer_id').sum().reset_index()\n",
    "df_ref = pd.merge(df_ref, df_monetary, on='customer_id', how='left')\n",
    "\n",
    "df_ref.isna().sum()"
   ]
  },
  {
   "cell_type": "markdown",
   "id": "d3a90357",
   "metadata": {
    "papermill": {
     "duration": 0.013423,
     "end_time": "2024-03-04T15:25:32.907358",
     "exception": false,
     "start_time": "2024-03-04T15:25:32.893935",
     "status": "completed"
    },
    "tags": []
   },
   "source": [
    "### 3.1.2 Recency - Days from last purchase"
   ]
  },
  {
   "cell_type": "code",
   "execution_count": 15,
   "id": "d572e644",
   "metadata": {
    "execution": {
     "iopub.execute_input": "2024-03-04T15:25:32.936322Z",
     "iopub.status.busy": "2024-03-04T15:25:32.935385Z",
     "iopub.status.idle": "2024-03-04T15:25:32.967251Z",
     "shell.execute_reply": "2024-03-04T15:25:32.966324Z"
    },
    "papermill": {
     "duration": 0.048784,
     "end_time": "2024-03-04T15:25:32.969431",
     "exception": false,
     "start_time": "2024-03-04T15:25:32.920647",
     "status": "completed"
    },
    "tags": []
   },
   "outputs": [
    {
     "data": {
      "text/plain": [
       "customer_id       0\n",
       "gross_revenue    91\n",
       "recency_days     91\n",
       "dtype: int64"
      ]
     },
     "execution_count": 15,
     "metadata": {},
     "output_type": "execute_result"
    }
   ],
   "source": [
    "# Recency - Last day purchase\n",
    "# Calculate how many days has passed from the day that the customer had a purchase\n",
    "# **inverter função**\n",
    "df_recency = df2_purchases[['customer_id', 'invoice_date']].groupby( 'customer_id' ).max().reset_index()\n",
    "df_recency['recency_days'] = ( df2_purchases['invoice_date'].max() - df_recency['invoice_date'] ).dt.days\n",
    "df_recency = df_recency[['customer_id', 'recency_days']].copy()\n",
    "#df_recency['recency_days'] = df_recency['recency_days'].apply( lambda x: 1 / x if x != 0 else 0)\n",
    "df_ref = pd.merge( df_ref, df_recency, on='customer_id', how='left' )\n",
    "\n",
    "df_ref.isna().sum()"
   ]
  },
  {
   "cell_type": "markdown",
   "id": "8f39e7ce",
   "metadata": {
    "papermill": {
     "duration": 0.013596,
     "end_time": "2024-03-04T15:25:32.997380",
     "exception": false,
     "start_time": "2024-03-04T15:25:32.983784",
     "status": "completed"
    },
    "tags": []
   },
   "source": [
    "### 3.1.3 Quantity of invoices (orders)"
   ]
  },
  {
   "cell_type": "code",
   "execution_count": 16,
   "id": "dffa44c1",
   "metadata": {
    "execution": {
     "iopub.execute_input": "2024-03-04T15:25:33.028150Z",
     "iopub.status.busy": "2024-03-04T15:25:33.027146Z",
     "iopub.status.idle": "2024-03-04T15:25:33.134366Z",
     "shell.execute_reply": "2024-03-04T15:25:33.133256Z"
    },
    "papermill": {
     "duration": 0.125151,
     "end_time": "2024-03-04T15:25:33.136824",
     "exception": false,
     "start_time": "2024-03-04T15:25:33.011673",
     "status": "completed"
    },
    "tags": []
   },
   "outputs": [
    {
     "data": {
      "text/plain": [
       "customer_id       0\n",
       "gross_revenue    91\n",
       "recency_days     91\n",
       "qtd_invoice      91\n",
       "dtype: int64"
      ]
     },
     "execution_count": 16,
     "metadata": {},
     "output_type": "execute_result"
    }
   ],
   "source": [
    "# Count of how many invoices the customer have\n",
    "df_freq = (df2_purchases[['customer_id', 'invoice_no']].drop_duplicates()\n",
    "                                                       .groupby( 'customer_id' )\n",
    "                                                       .count()\n",
    "                                                       .reset_index()\n",
    "                                                       .rename(columns={'invoice_no':'qtd_invoice'}))\n",
    "df_ref = pd.merge( df_ref, df_freq, on='customer_id', how='left' )\n",
    "df_ref.isna().sum()"
   ]
  },
  {
   "cell_type": "markdown",
   "id": "5dea08b5",
   "metadata": {
    "papermill": {
     "duration": 0.013898,
     "end_time": "2024-03-04T15:25:33.165146",
     "exception": false,
     "start_time": "2024-03-04T15:25:33.151248",
     "status": "completed"
    },
    "tags": []
   },
   "source": [
    "### 3.1.4 Quantity of total items bought"
   ]
  },
  {
   "cell_type": "code",
   "execution_count": 17,
   "id": "3c00ee96",
   "metadata": {
    "execution": {
     "iopub.execute_input": "2024-03-04T15:25:33.195489Z",
     "iopub.status.busy": "2024-03-04T15:25:33.195086Z",
     "iopub.status.idle": "2024-03-04T15:25:33.224349Z",
     "shell.execute_reply": "2024-03-04T15:25:33.223292Z"
    },
    "papermill": {
     "duration": 0.047137,
     "end_time": "2024-03-04T15:25:33.226519",
     "exception": false,
     "start_time": "2024-03-04T15:25:33.179382",
     "status": "completed"
    },
    "tags": []
   },
   "outputs": [
    {
     "data": {
      "text/plain": [
       "customer_id       0\n",
       "gross_revenue    91\n",
       "recency_days     91\n",
       "qtd_invoice      91\n",
       "qtd_items        91\n",
       "dtype: int64"
      ]
     },
     "execution_count": 17,
     "metadata": {},
     "output_type": "execute_result"
    }
   ],
   "source": [
    "# Calculate how many items the customer has bought in total\n",
    "df_qtd = df2_purchases.loc[:,['customer_id', 'quantity']].groupby('customer_id').sum().reset_index().rename(columns={'quantity':'qtd_items'})\n",
    "df_ref = pd.merge( df_ref, df_qtd, on='customer_id', how='left' )\n",
    "df_ref.isna().sum()"
   ]
  },
  {
   "cell_type": "markdown",
   "id": "50830d9c",
   "metadata": {
    "papermill": {
     "duration": 0.014116,
     "end_time": "2024-03-04T15:25:33.255186",
     "exception": false,
     "start_time": "2024-03-04T15:25:33.241070",
     "status": "completed"
    },
    "tags": []
   },
   "source": [
    "### 3.1.5 Quantity of unique products (stock_code/SKU)"
   ]
  },
  {
   "cell_type": "code",
   "execution_count": 18,
   "id": "65a2d0d4",
   "metadata": {
    "execution": {
     "iopub.execute_input": "2024-03-04T15:25:33.285099Z",
     "iopub.status.busy": "2024-03-04T15:25:33.284377Z",
     "iopub.status.idle": "2024-03-04T15:25:33.483888Z",
     "shell.execute_reply": "2024-03-04T15:25:33.482809Z"
    },
    "papermill": {
     "duration": 0.217313,
     "end_time": "2024-03-04T15:25:33.486438",
     "exception": false,
     "start_time": "2024-03-04T15:25:33.269125",
     "status": "completed"
    },
    "tags": []
   },
   "outputs": [
    {
     "data": {
      "text/plain": [
       "customer_id         0\n",
       "gross_revenue      91\n",
       "recency_days       91\n",
       "qtd_invoice        91\n",
       "qtd_items          91\n",
       "unique_products    91\n",
       "dtype: int64"
      ]
     },
     "execution_count": 18,
     "metadata": {},
     "output_type": "execute_result"
    }
   ],
   "source": [
    "df_stock = df2_purchases.loc[:, ['customer_id', 'stock_code']].drop_duplicates().groupby('customer_id').count().reset_index().rename(columns={'stock_code':'unique_products'})\n",
    "df_ref = pd.merge( df_ref, df_stock, on='customer_id', how='left' )\n",
    "df_ref.isna().sum()"
   ]
  },
  {
   "cell_type": "markdown",
   "id": "d24d83cc",
   "metadata": {
    "papermill": {
     "duration": 0.014094,
     "end_time": "2024-03-04T15:25:33.515486",
     "exception": false,
     "start_time": "2024-03-04T15:25:33.501392",
     "status": "completed"
    },
    "tags": []
   },
   "source": [
    "### 3.1.6 Average ticket value"
   ]
  },
  {
   "cell_type": "code",
   "execution_count": 19,
   "id": "d4f30cb4",
   "metadata": {
    "execution": {
     "iopub.execute_input": "2024-03-04T15:25:33.545522Z",
     "iopub.status.busy": "2024-03-04T15:25:33.545128Z",
     "iopub.status.idle": "2024-03-04T15:25:33.574701Z",
     "shell.execute_reply": "2024-03-04T15:25:33.573538Z"
    },
    "papermill": {
     "duration": 0.04745,
     "end_time": "2024-03-04T15:25:33.577054",
     "exception": false,
     "start_time": "2024-03-04T15:25:33.529604",
     "status": "completed"
    },
    "tags": []
   },
   "outputs": [
    {
     "data": {
      "text/plain": [
       "customer_id         0\n",
       "gross_revenue      91\n",
       "recency_days       91\n",
       "qtd_invoice        91\n",
       "qtd_items          91\n",
       "unique_products    91\n",
       "avg_ticket         91\n",
       "dtype: int64"
      ]
     },
     "execution_count": 19,
     "metadata": {},
     "output_type": "execute_result"
    }
   ],
   "source": [
    "# Avg Ticket\n",
    "df_avg_ticket = df2_purchases[['customer_id', 'gross_revenue']].groupby( 'customer_id' ).mean().reset_index().rename( columns={'gross_revenue':'avg_ticket'} )\n",
    "df_ref = pd.merge( df_ref, df_avg_ticket, on='customer_id', how='left')\n",
    "\n",
    "df_ref.isna().sum()"
   ]
  },
  {
   "cell_type": "markdown",
   "id": "c0dbc0ec",
   "metadata": {
    "papermill": {
     "duration": 0.014323,
     "end_time": "2024-03-04T15:25:33.606313",
     "exception": false,
     "start_time": "2024-03-04T15:25:33.591990",
     "status": "completed"
    },
    "tags": []
   },
   "source": [
    "### 3.1.7 Average receny days"
   ]
  },
  {
   "cell_type": "code",
   "execution_count": 20,
   "id": "5dc52c6f",
   "metadata": {
    "execution": {
     "iopub.execute_input": "2024-03-04T15:25:33.637405Z",
     "iopub.status.busy": "2024-03-04T15:25:33.636494Z",
     "iopub.status.idle": "2024-03-04T15:25:34.294877Z",
     "shell.execute_reply": "2024-03-04T15:25:34.293768Z"
    },
    "papermill": {
     "duration": 0.676447,
     "end_time": "2024-03-04T15:25:34.297341",
     "exception": false,
     "start_time": "2024-03-04T15:25:33.620894",
     "status": "completed"
    },
    "tags": []
   },
   "outputs": [
    {
     "data": {
      "text/plain": [
       "customer_id            0\n",
       "gross_revenue         91\n",
       "recency_days          91\n",
       "qtd_invoice           91\n",
       "qtd_items             91\n",
       "unique_products       91\n",
       "avg_ticket            91\n",
       "avg_recency_days    2952\n",
       "dtype: int64"
      ]
     },
     "execution_count": 20,
     "metadata": {},
     "output_type": "execute_result"
    }
   ],
   "source": [
    "df_aux = df2_purchases.loc[:,['customer_id', 'invoice_date']].drop_duplicates().sort_values(['customer_id', 'invoice_date'], ascending=[False, False])\n",
    "df_aux['next_customer_id'] = df_aux['customer_id'].shift()\n",
    "df_aux['previous_date'] = df_aux['invoice_date'].shift()\n",
    "\n",
    "df_aux['avg_recency_days'] = df_aux.apply(lambda x: (x['previous_date'] - x['invoice_date']).days if x['customer_id']==x['next_customer_id'] else np.nan, axis=1)\n",
    "\n",
    "df_aux = df_aux.drop(['invoice_date', 'next_customer_id', 'previous_date'], axis=1).dropna()\n",
    "\n",
    "# Now we have how many days from last purchase, we will get the mean days between orders\n",
    "df_aux = df_aux.groupby('customer_id').mean().reset_index()\n",
    "\n",
    "df_ref = pd.merge( df_ref, df_aux, on='customer_id', how='left')\n",
    "\n",
    "df_ref.isna().sum()"
   ]
  },
  {
   "cell_type": "markdown",
   "id": "bba651ac",
   "metadata": {
    "papermill": {
     "duration": 0.01454,
     "end_time": "2024-03-04T15:25:34.326935",
     "exception": false,
     "start_time": "2024-03-04T15:25:34.312395",
     "status": "completed"
    },
    "tags": []
   },
   "source": [
    "### 3.1.8 Frequency purchase"
   ]
  },
  {
   "cell_type": "code",
   "execution_count": 21,
   "id": "cb92616d",
   "metadata": {
    "execution": {
     "iopub.execute_input": "2024-03-04T15:25:34.358097Z",
     "iopub.status.busy": "2024-03-04T15:25:34.357678Z",
     "iopub.status.idle": "2024-03-04T15:25:36.054234Z",
     "shell.execute_reply": "2024-03-04T15:25:36.053217Z"
    },
    "papermill": {
     "duration": 1.714914,
     "end_time": "2024-03-04T15:25:36.056607",
     "exception": false,
     "start_time": "2024-03-04T15:25:34.341693",
     "status": "completed"
    },
    "tags": []
   },
   "outputs": [
    {
     "data": {
      "text/plain": [
       "customer_id            0\n",
       "gross_revenue         91\n",
       "recency_days          91\n",
       "qtd_invoice           91\n",
       "qtd_items             91\n",
       "unique_products       91\n",
       "avg_ticket            91\n",
       "avg_recency_days    2952\n",
       "frequency             91\n",
       "dtype: int64"
      ]
     },
     "execution_count": 21,
     "metadata": {},
     "output_type": "execute_result"
    }
   ],
   "source": [
    "df_aux = (df2_purchases.loc[:,['customer_id', 'invoice_no', 'invoice_date']].drop_duplicates()\n",
    "                                                                            .groupby('customer_id')\n",
    "                                                                            .agg(max_ = ('invoice_date','max'),\n",
    "                                                                                 min_ = ('invoice_date','min'),\n",
    "                                                                                 days_ = ('invoice_date', lambda x: (x.max()-x.min()).days + 1),\n",
    "                                                                                 buy_ = ('invoice_no','count')\n",
    "                                                                                )\n",
    "                                                                            .reset_index())\n",
    "\n",
    "# How many purchases per day the customer have\n",
    "df_aux['frequency'] = df_aux[['buy_', 'days_']].apply(lambda x: x['buy_']/x['days_'] if x['days_'] != 0 else 0, axis=1)\n",
    "\n",
    "df_aux = df_aux.drop(['max_', 'min_', 'days_', 'buy_'], axis=1)\n",
    "\n",
    "df_ref = pd.merge(df_ref, df_aux, on='customer_id', how='left')\n",
    "\n",
    "df_ref.isna().sum()"
   ]
  },
  {
   "cell_type": "markdown",
   "id": "5f3176db",
   "metadata": {
    "papermill": {
     "duration": 0.014706,
     "end_time": "2024-03-04T15:25:36.087530",
     "exception": false,
     "start_time": "2024-03-04T15:25:36.072824",
     "status": "completed"
    },
    "tags": []
   },
   "source": [
    "### 3.1.9 Total returns"
   ]
  },
  {
   "cell_type": "code",
   "execution_count": 22,
   "id": "185a2905",
   "metadata": {
    "execution": {
     "iopub.execute_input": "2024-03-04T15:25:36.118960Z",
     "iopub.status.busy": "2024-03-04T15:25:36.118575Z",
     "iopub.status.idle": "2024-03-04T15:25:36.139425Z",
     "shell.execute_reply": "2024-03-04T15:25:36.138559Z"
    },
    "papermill": {
     "duration": 0.038973,
     "end_time": "2024-03-04T15:25:36.141463",
     "exception": false,
     "start_time": "2024-03-04T15:25:36.102490",
     "status": "completed"
    },
    "tags": []
   },
   "outputs": [
    {
     "data": {
      "text/plain": [
       "customer_id            0\n",
       "gross_revenue         91\n",
       "recency_days          91\n",
       "qtd_invoice           91\n",
       "qtd_items             91\n",
       "unique_products       91\n",
       "avg_ticket            91\n",
       "avg_recency_days    2952\n",
       "frequency             91\n",
       "qtd_returns            0\n",
       "dtype: int64"
      ]
     },
     "execution_count": 22,
     "metadata": {},
     "output_type": "execute_result"
    }
   ],
   "source": [
    "df_aux = df2_returns.loc[:, ['customer_id', 'quantity']].groupby('customer_id').sum().reset_index().rename(columns={'quantity':'qtd_returns'})\n",
    "df_aux['qtd_returns'] = df_aux['qtd_returns'] *-1\n",
    "\n",
    "df_ref = pd.merge( df_ref, df_aux, how='left', on='customer_id' )\n",
    "\n",
    "# Input zero for customers that not have any returns\n",
    "df_ref.loc[df_ref['qtd_returns'].isna(), 'qtd_returns'] = 0\n",
    "\n",
    "df_ref.isna().sum()"
   ]
  },
  {
   "cell_type": "markdown",
   "id": "07b1ba8e",
   "metadata": {
    "papermill": {
     "duration": 0.014783,
     "end_time": "2024-03-04T15:25:36.171588",
     "exception": false,
     "start_time": "2024-03-04T15:25:36.156805",
     "status": "completed"
    },
    "tags": []
   },
   "source": [
    "### 3.1.10 Basket size - Quantity of items per order"
   ]
  },
  {
   "cell_type": "code",
   "execution_count": 23,
   "id": "8b9d8299",
   "metadata": {
    "execution": {
     "iopub.execute_input": "2024-03-04T15:25:36.203417Z",
     "iopub.status.busy": "2024-03-04T15:25:36.203025Z",
     "iopub.status.idle": "2024-03-04T15:25:36.318456Z",
     "shell.execute_reply": "2024-03-04T15:25:36.317392Z"
    },
    "papermill": {
     "duration": 0.134443,
     "end_time": "2024-03-04T15:25:36.320822",
     "exception": false,
     "start_time": "2024-03-04T15:25:36.186379",
     "status": "completed"
    },
    "tags": []
   },
   "outputs": [
    {
     "data": {
      "text/plain": [
       "customer_id            0\n",
       "gross_revenue         91\n",
       "recency_days          91\n",
       "qtd_invoice           91\n",
       "qtd_items             91\n",
       "unique_products       91\n",
       "avg_ticket            91\n",
       "avg_recency_days    2952\n",
       "frequency             91\n",
       "qtd_returns            0\n",
       "avg_basket_size       91\n",
       "dtype: int64"
      ]
     },
     "execution_count": 23,
     "metadata": {},
     "output_type": "execute_result"
    }
   ],
   "source": [
    "df_aux = (df2_purchases.loc[:, ['customer_id', 'invoice_no', 'quantity']].groupby('customer_id')\n",
    "                                                                         .agg(n_purchase=('invoice_no', 'nunique'), \n",
    "                                                                              n_products=('quantity', 'sum'))\n",
    "                                                                         .reset_index())\n",
    "# Calculate the average products bought per order\n",
    "df_aux['avg_basket_size'] = df_aux['n_products'] / df_aux['n_purchase']\n",
    "\n",
    "df_aux = df_aux.drop(columns=['n_purchase', 'n_products'], axis=1)\n",
    "\n",
    "df_ref = pd.merge( df_ref, df_aux, how='left', on='customer_id' )\n",
    "df_ref.isna().sum()"
   ]
  },
  {
   "cell_type": "markdown",
   "id": "dec06553",
   "metadata": {
    "papermill": {
     "duration": 0.015025,
     "end_time": "2024-03-04T15:25:36.351701",
     "exception": false,
     "start_time": "2024-03-04T15:25:36.336676",
     "status": "completed"
    },
    "tags": []
   },
   "source": [
    "### 3.1.11 Unique basket size - Unique items per order"
   ]
  },
  {
   "cell_type": "code",
   "execution_count": 24,
   "id": "3c9fcb70",
   "metadata": {
    "execution": {
     "iopub.execute_input": "2024-03-04T15:25:36.383885Z",
     "iopub.status.busy": "2024-03-04T15:25:36.383151Z",
     "iopub.status.idle": "2024-03-04T15:25:36.662530Z",
     "shell.execute_reply": "2024-03-04T15:25:36.661406Z"
    },
    "papermill": {
     "duration": 0.298203,
     "end_time": "2024-03-04T15:25:36.664955",
     "exception": false,
     "start_time": "2024-03-04T15:25:36.366752",
     "status": "completed"
    },
    "tags": []
   },
   "outputs": [
    {
     "data": {
      "text/plain": [
       "customer_id                  0\n",
       "gross_revenue               91\n",
       "recency_days                91\n",
       "qtd_invoice                 91\n",
       "qtd_items                   91\n",
       "unique_products             91\n",
       "avg_ticket                  91\n",
       "avg_recency_days          2952\n",
       "frequency                   91\n",
       "qtd_returns                  0\n",
       "avg_basket_size             91\n",
       "avg_unique_basket_size      91\n",
       "dtype: int64"
      ]
     },
     "execution_count": 24,
     "metadata": {},
     "output_type": "execute_result"
    }
   ],
   "source": [
    "df_aux = (df2_purchases.loc[:, ['customer_id', 'invoice_no', 'stock_code']].groupby('customer_id')\n",
    "                                                                         .agg(n_purchase=('invoice_no', 'nunique'), \n",
    "                                                                              n_products=('stock_code', 'nunique'))\n",
    "                                                                         .reset_index())\n",
    "# Calculate the average products bought per order\n",
    "df_aux['avg_unique_basket_size'] = df_aux['n_products'] / df_aux['n_purchase']\n",
    "\n",
    "df_aux = df_aux.drop(columns=['n_purchase', 'n_products'], axis=1)\n",
    "\n",
    "df_ref = pd.merge( df_ref, df_aux, how='left', on='customer_id' )\n",
    "df_ref.isna().sum()"
   ]
  },
  {
   "cell_type": "markdown",
   "id": "dbcc5fcb",
   "metadata": {
    "heading_collapsed": true,
    "jp-MarkdownHeadingCollapsed": true,
    "papermill": {
     "duration": 0.015206,
     "end_time": "2024-03-04T15:25:36.696224",
     "exception": false,
     "start_time": "2024-03-04T15:25:36.681018",
     "status": "completed"
    },
    "tags": []
   },
   "source": [
    "# 4.0 EDA - Análise exploratória dos dados"
   ]
  },
  {
   "cell_type": "code",
   "execution_count": 25,
   "id": "9bebd242",
   "metadata": {
    "ExecuteTime": {
     "end_time": "2023-12-11T17:36:40.937998Z",
     "start_time": "2023-12-11T17:36:40.927512Z"
    },
    "execution": {
     "iopub.execute_input": "2024-03-04T15:25:36.728912Z",
     "iopub.status.busy": "2024-03-04T15:25:36.728126Z",
     "iopub.status.idle": "2024-03-04T15:25:36.739939Z",
     "shell.execute_reply": "2024-03-04T15:25:36.738860Z"
    },
    "hidden": true,
    "papermill": {
     "duration": 0.030747,
     "end_time": "2024-03-04T15:25:36.742111",
     "exception": false,
     "start_time": "2024-03-04T15:25:36.711364",
     "status": "completed"
    },
    "tags": []
   },
   "outputs": [
    {
     "data": {
      "text/plain": [
       "customer_id               0\n",
       "gross_revenue             0\n",
       "recency_days              0\n",
       "qtd_invoice               0\n",
       "qtd_items                 0\n",
       "unique_products           0\n",
       "avg_ticket                0\n",
       "avg_recency_days          0\n",
       "frequency                 0\n",
       "qtd_returns               0\n",
       "avg_basket_size           0\n",
       "avg_unique_basket_size    0\n",
       "dtype: int64"
      ]
     },
     "execution_count": 25,
     "metadata": {},
     "output_type": "execute_result"
    }
   ],
   "source": [
    "df4 = df_ref.dropna()\n",
    "df4.isna().sum()"
   ]
  },
  {
   "cell_type": "markdown",
   "id": "6d9092fb",
   "metadata": {
    "heading_collapsed": true,
    "hidden": true,
    "papermill": {
     "duration": 0.015331,
     "end_time": "2024-03-04T15:25:36.773296",
     "exception": false,
     "start_time": "2024-03-04T15:25:36.757965",
     "status": "completed"
    },
    "tags": []
   },
   "source": [
    "## 4.3 Estudo dos espaços"
   ]
  },
  {
   "cell_type": "code",
   "execution_count": 26,
   "id": "33655cd2",
   "metadata": {
    "execution": {
     "iopub.execute_input": "2024-03-04T15:25:36.806605Z",
     "iopub.status.busy": "2024-03-04T15:25:36.805912Z",
     "iopub.status.idle": "2024-03-04T15:25:36.811698Z",
     "shell.execute_reply": "2024-03-04T15:25:36.810754Z"
    },
    "papermill": {
     "duration": 0.024962,
     "end_time": "2024-03-04T15:25:36.813957",
     "exception": false,
     "start_time": "2024-03-04T15:25:36.788995",
     "status": "completed"
    },
    "tags": []
   },
   "outputs": [],
   "source": [
    "df43 = df4.drop(columns=['customer_id'], axis=1).copy()"
   ]
  },
  {
   "cell_type": "markdown",
   "id": "8774a5fb",
   "metadata": {
    "papermill": {
     "duration": 0.015736,
     "end_time": "2024-03-04T15:25:36.845528",
     "exception": false,
     "start_time": "2024-03-04T15:25:36.829792",
     "status": "completed"
    },
    "tags": []
   },
   "source": [
    "### 4.3.4 Tree based embedding"
   ]
  },
  {
   "cell_type": "code",
   "execution_count": 27,
   "id": "1247b879",
   "metadata": {
    "execution": {
     "iopub.execute_input": "2024-03-04T15:25:36.879204Z",
     "iopub.status.busy": "2024-03-04T15:25:36.878467Z",
     "iopub.status.idle": "2024-03-04T15:25:39.693208Z",
     "shell.execute_reply": "2024-03-04T15:25:39.692032Z"
    },
    "papermill": {
     "duration": 2.83483,
     "end_time": "2024-03-04T15:25:39.696138",
     "exception": false,
     "start_time": "2024-03-04T15:25:36.861308",
     "status": "completed"
    },
    "tags": []
   },
   "outputs": [],
   "source": [
    "# training dataset\n",
    "X = df43.drop( columns=['gross_revenue'], axis=1 )\n",
    "y = df43['gross_revenue']\n",
    "\n",
    "# model definition\n",
    "rf_model = en.RandomForestRegressor( n_estimators=100, random_state=42 )\n",
    "\n",
    "# model training\n",
    "rf_model.fit( X, y )\n",
    "\n",
    "# predict\n",
    "df_leaf = pd.DataFrame( rf_model.apply( X ) )"
   ]
  },
  {
   "cell_type": "markdown",
   "id": "6fca7df7",
   "metadata": {
    "papermill": {
     "duration": 0.015917,
     "end_time": "2024-03-04T15:25:39.728588",
     "exception": false,
     "start_time": "2024-03-04T15:25:39.712671",
     "status": "completed"
    },
    "tags": []
   },
   "source": [
    "#### 4.3.4.1 UMAP embedding"
   ]
  },
  {
   "cell_type": "code",
   "execution_count": 28,
   "id": "4e7bafa7",
   "metadata": {
    "execution": {
     "iopub.execute_input": "2024-03-04T15:25:39.762735Z",
     "iopub.status.busy": "2024-03-04T15:25:39.761752Z",
     "iopub.status.idle": "2024-03-04T15:26:00.200490Z",
     "shell.execute_reply": "2024-03-04T15:26:00.199352Z"
    },
    "papermill": {
     "duration": 20.458749,
     "end_time": "2024-03-04T15:26:00.203136",
     "exception": false,
     "start_time": "2024-03-04T15:25:39.744387",
     "status": "completed"
    },
    "tags": []
   },
   "outputs": [
    {
     "name": "stderr",
     "output_type": "stream",
     "text": [
      "/home/ubuntu/.pyenv/versions/3.10.0/envs/cluster/lib/python3.10/site-packages/umap/umap_.py:1943: UserWarning: n_jobs value -1 overridden to 1 by setting random_state. Use no seed for parallelism.\n",
      "  warn(f\"n_jobs value {self.n_jobs} overridden to 1 by setting random_state. Use no seed for parallelism.\")\n"
     ]
    }
   ],
   "source": [
    "# Reduzer dimensionality\n",
    "reducer = umap.UMAP( random_state=42 )\n",
    "embedding = reducer.fit_transform( df_leaf )\n",
    "\n",
    "# embedding\n",
    "df_tree = pd.DataFrame()\n",
    "df_tree['embedding_x'] = embedding[:, 0]\n",
    "df_tree['embedding_y'] = embedding[:, 1]"
   ]
  },
  {
   "cell_type": "markdown",
   "id": "34dcd39c",
   "metadata": {
    "heading_collapsed": true,
    "jp-MarkdownHeadingCollapsed": true,
    "papermill": {
     "duration": 0.016668,
     "end_time": "2024-03-04T15:26:00.236839",
     "exception": false,
     "start_time": "2024-03-04T15:26:00.220171",
     "status": "completed"
    },
    "tags": []
   },
   "source": [
    "# 5.0 Data Preparation"
   ]
  },
  {
   "cell_type": "code",
   "execution_count": 29,
   "id": "026dedd0",
   "metadata": {
    "ExecuteTime": {
     "end_time": "2023-12-12T15:15:14.956156Z",
     "start_time": "2023-12-12T15:15:14.945589Z"
    },
    "execution": {
     "iopub.execute_input": "2024-03-04T15:26:00.272162Z",
     "iopub.status.busy": "2024-03-04T15:26:00.271453Z",
     "iopub.status.idle": "2024-03-04T15:26:00.276601Z",
     "shell.execute_reply": "2024-03-04T15:26:00.275676Z"
    },
    "hidden": true,
    "papermill": {
     "duration": 0.025067,
     "end_time": "2024-03-04T15:26:00.278693",
     "exception": false,
     "start_time": "2024-03-04T15:26:00.253626",
     "status": "completed"
    },
    "tags": []
   },
   "outputs": [],
   "source": [
    "df5 = df4.copy()"
   ]
  },
  {
   "cell_type": "markdown",
   "id": "a182f4f8",
   "metadata": {
    "heading_collapsed": true,
    "jp-MarkdownHeadingCollapsed": true,
    "papermill": {
     "duration": 0.016087,
     "end_time": "2024-03-04T15:26:00.311011",
     "exception": false,
     "start_time": "2024-03-04T15:26:00.294924",
     "status": "completed"
    },
    "tags": []
   },
   "source": [
    "# 6.0 Feature selection"
   ]
  },
  {
   "cell_type": "code",
   "execution_count": 30,
   "id": "c8ef1e51",
   "metadata": {
    "ExecuteTime": {
     "end_time": "2023-12-12T14:17:55.371490Z",
     "start_time": "2023-12-12T14:17:55.318956Z"
    },
    "execution": {
     "iopub.execute_input": "2024-03-04T15:26:00.345720Z",
     "iopub.status.busy": "2024-03-04T15:26:00.344985Z",
     "iopub.status.idle": "2024-03-04T15:26:00.351887Z",
     "shell.execute_reply": "2024-03-04T15:26:00.350847Z"
    },
    "hidden": true,
    "papermill": {
     "duration": 0.026655,
     "end_time": "2024-03-04T15:26:00.354087",
     "exception": false,
     "start_time": "2024-03-04T15:26:00.327432",
     "status": "completed"
    },
    "tags": []
   },
   "outputs": [],
   "source": [
    "df6 = df5.copy()"
   ]
  },
  {
   "cell_type": "markdown",
   "id": "0ea6b68d",
   "metadata": {
    "heading_collapsed": true,
    "papermill": {
     "duration": 0.016064,
     "end_time": "2024-03-04T15:26:00.386554",
     "exception": false,
     "start_time": "2024-03-04T15:26:00.370490",
     "status": "completed"
    },
    "tags": []
   },
   "source": [
    "# 7.0 Hyperparameter Fine-Tunning"
   ]
  },
  {
   "cell_type": "code",
   "execution_count": 31,
   "id": "d63177fd",
   "metadata": {
    "execution": {
     "iopub.execute_input": "2024-03-04T15:26:00.421666Z",
     "iopub.status.busy": "2024-03-04T15:26:00.420721Z",
     "iopub.status.idle": "2024-03-04T15:26:00.426099Z",
     "shell.execute_reply": "2024-03-04T15:26:00.425080Z"
    },
    "papermill": {
     "duration": 0.025744,
     "end_time": "2024-03-04T15:26:00.428354",
     "exception": false,
     "start_time": "2024-03-04T15:26:00.402610",
     "status": "completed"
    },
    "tags": []
   },
   "outputs": [],
   "source": [
    "df7 = df_tree.copy()\n",
    "X = df7.copy()"
   ]
  },
  {
   "cell_type": "markdown",
   "id": "c55a4924",
   "metadata": {
    "heading_collapsed": true,
    "papermill": {
     "duration": 0.015733,
     "end_time": "2024-03-04T15:26:00.460721",
     "exception": false,
     "start_time": "2024-03-04T15:26:00.444988",
     "status": "completed"
    },
    "tags": []
   },
   "source": [
    "# 8.0 Machine Learning Modeling"
   ]
  },
  {
   "cell_type": "markdown",
   "id": "8fe3247e",
   "metadata": {
    "papermill": {
     "duration": 0.01575,
     "end_time": "2024-03-04T15:26:00.492313",
     "exception": false,
     "start_time": "2024-03-04T15:26:00.476563",
     "status": "completed"
    },
    "tags": []
   },
   "source": [
    "## 8.1 K-Means"
   ]
  },
  {
   "cell_type": "code",
   "execution_count": 32,
   "id": "e8637495",
   "metadata": {
    "execution": {
     "iopub.execute_input": "2024-03-04T15:26:00.526039Z",
     "iopub.status.busy": "2024-03-04T15:26:00.525303Z",
     "iopub.status.idle": "2024-03-04T15:26:00.636043Z",
     "shell.execute_reply": "2024-03-04T15:26:00.635085Z"
    },
    "papermill": {
     "duration": 0.130517,
     "end_time": "2024-03-04T15:26:00.638539",
     "exception": false,
     "start_time": "2024-03-04T15:26:00.508022",
     "status": "completed"
    },
    "tags": []
   },
   "outputs": [],
   "source": [
    "# Model definition\n",
    "k = 10\n",
    "kmeans = c.KMeans(n_clusters=k, n_init=10, random_state=42)\n",
    "\n",
    "# model training\n",
    "kmeans.fit( X )\n",
    "\n",
    "# clustering\n",
    "labels = kmeans.labels_"
   ]
  },
  {
   "cell_type": "markdown",
   "id": "c18bafc6",
   "metadata": {
    "papermill": {
     "duration": 0.016268,
     "end_time": "2024-03-04T15:26:00.671531",
     "exception": false,
     "start_time": "2024-03-04T15:26:00.655263",
     "status": "completed"
    },
    "tags": []
   },
   "source": [
    "### 8.1.1 Cluster validation"
   ]
  },
  {
   "cell_type": "code",
   "execution_count": 33,
   "id": "6cb0c969",
   "metadata": {
    "execution": {
     "iopub.execute_input": "2024-03-04T15:26:00.705883Z",
     "iopub.status.busy": "2024-03-04T15:26:00.705034Z",
     "iopub.status.idle": "2024-03-04T15:26:00.823839Z",
     "shell.execute_reply": "2024-03-04T15:26:00.822914Z"
    },
    "papermill": {
     "duration": 0.138518,
     "end_time": "2024-03-04T15:26:00.825954",
     "exception": false,
     "start_time": "2024-03-04T15:26:00.687436",
     "status": "completed"
    },
    "tags": []
   },
   "outputs": [
    {
     "name": "stdout",
     "output_type": "stream",
     "text": [
      "WSS value: 17574.89453125\n",
      "SS value: 0.6398946642875671\n"
     ]
    }
   ],
   "source": [
    "## WSS ( Within-cluster sum of square)\n",
    "print( 'WSS value: {}'.format( kmeans.inertia_ ) )\n",
    "\n",
    "## SS ( Silhouette Score )\n",
    "print( 'SS value: {}'.format( m.silhouette_score( X, labels, metric='euclidean' ) ) )"
   ]
  },
  {
   "cell_type": "markdown",
   "id": "f4954f79-cbe7-402c-bbbe-e1b1b77ec2c6",
   "metadata": {
    "heading_collapsed": true,
    "papermill": {
     "duration": 0.016509,
     "end_time": "2024-03-04T15:26:00.859335",
     "exception": false,
     "start_time": "2024-03-04T15:26:00.842826",
     "status": "completed"
    },
    "tags": []
   },
   "source": [
    "# 9.0 Cluster analysis"
   ]
  },
  {
   "cell_type": "markdown",
   "id": "ea499c40",
   "metadata": {
    "papermill": {
     "duration": 0.01603,
     "end_time": "2024-03-04T15:26:00.891499",
     "exception": false,
     "start_time": "2024-03-04T15:26:00.875469",
     "status": "completed"
    },
    "tags": []
   },
   "source": [
    "## 9.2 Cluster profile"
   ]
  },
  {
   "cell_type": "code",
   "execution_count": 34,
   "id": "7fe03719",
   "metadata": {
    "execution": {
     "iopub.execute_input": "2024-03-04T15:26:00.926169Z",
     "iopub.status.busy": "2024-03-04T15:26:00.925387Z",
     "iopub.status.idle": "2024-03-04T15:26:00.930807Z",
     "shell.execute_reply": "2024-03-04T15:26:00.929923Z"
    },
    "papermill": {
     "duration": 0.025147,
     "end_time": "2024-03-04T15:26:00.932852",
     "exception": false,
     "start_time": "2024-03-04T15:26:00.907705",
     "status": "completed"
    },
    "tags": []
   },
   "outputs": [],
   "source": [
    "df92 = df4.copy()\n",
    "df92['cluster'] = labels"
   ]
  },
  {
   "cell_type": "code",
   "execution_count": 35,
   "id": "dcd9ac0a",
   "metadata": {
    "execution": {
     "iopub.execute_input": "2024-03-04T15:26:00.968509Z",
     "iopub.status.busy": "2024-03-04T15:26:00.967533Z",
     "iopub.status.idle": "2024-03-04T15:26:01.005721Z",
     "shell.execute_reply": "2024-03-04T15:26:01.004776Z"
    },
    "papermill": {
     "duration": 0.058511,
     "end_time": "2024-03-04T15:26:01.008140",
     "exception": false,
     "start_time": "2024-03-04T15:26:00.949629",
     "status": "completed"
    },
    "tags": []
   },
   "outputs": [],
   "source": [
    "# Number of customer\n",
    "df_cluster = df92[['customer_id', 'cluster']].groupby( 'cluster' ).count().reset_index()\n",
    "df_cluster['perc_customer'] = 100*( df_cluster['customer_id'] / df_cluster['customer_id'].sum() )\n",
    "\n",
    "# Avg Gross revenue\n",
    "df_avg_gross_revenue = df92[['gross_revenue', 'cluster']].groupby( 'cluster' ).mean().reset_index()\n",
    "df_cluster = pd.merge( df_cluster, df_avg_gross_revenue, how='inner', on='cluster' )\n",
    "\n",
    "# Avg recency days\n",
    "df_avg_recency_days = df92[['recency_days', 'cluster']].groupby( 'cluster' ).mean().reset_index()\n",
    "df_cluster = pd.merge( df_cluster, df_avg_recency_days, how='inner', on='cluster' )\n",
    "\n",
    "# Avg invoice_no\n",
    "df_qtde_products = df92[['qtd_invoice', 'cluster']].groupby( 'cluster' ).mean().reset_index()\n",
    "df_cluster = pd.merge( df_cluster, df_qtde_products, how='inner', on='cluster' )\n",
    "\n",
    "# Frequency\n",
    "df_frequency = df92[['frequency', 'cluster']].groupby( 'cluster' ).mean().reset_index()\n",
    "df_cluster = pd.merge( df_cluster, df_frequency, how='inner', on='cluster' )\n",
    "\n",
    "# Returns\n",
    "df_qtde_returns = df92[['qtd_returns', 'cluster']].groupby( 'cluster' ).mean().reset_index()\n",
    "df_cluster = pd.merge( df_cluster, df_qtde_returns, how='inner', on='cluster' )"
   ]
  },
  {
   "cell_type": "markdown",
   "id": "e4054087",
   "metadata": {
    "papermill": {
     "duration": 0.016218,
     "end_time": "2024-03-04T15:26:01.041022",
     "exception": false,
     "start_time": "2024-03-04T15:26:01.024804",
     "status": "completed"
    },
    "tags": []
   },
   "source": [
    "# 10.0 Deploy"
   ]
  },
  {
   "cell_type": "code",
   "execution_count": 36,
   "id": "1c9593dc",
   "metadata": {
    "execution": {
     "iopub.execute_input": "2024-03-04T15:26:01.076518Z",
     "iopub.status.busy": "2024-03-04T15:26:01.075576Z",
     "iopub.status.idle": "2024-03-04T15:26:01.093165Z",
     "shell.execute_reply": "2024-03-04T15:26:01.092163Z"
    },
    "papermill": {
     "duration": 0.037773,
     "end_time": "2024-03-04T15:26:01.095307",
     "exception": false,
     "start_time": "2024-03-04T15:26:01.057534",
     "status": "completed"
    },
    "tags": []
   },
   "outputs": [
    {
     "data": {
      "text/html": [
       "<div>\n",
       "<style scoped>\n",
       "    .dataframe tbody tr th:only-of-type {\n",
       "        vertical-align: middle;\n",
       "    }\n",
       "\n",
       "    .dataframe tbody tr th {\n",
       "        vertical-align: top;\n",
       "    }\n",
       "\n",
       "    .dataframe thead th {\n",
       "        text-align: right;\n",
       "    }\n",
       "</style>\n",
       "<table border=\"1\" class=\"dataframe\">\n",
       "  <thead>\n",
       "    <tr style=\"text-align: right;\">\n",
       "      <th></th>\n",
       "      <th>cluster</th>\n",
       "      <th>customer_id</th>\n",
       "      <th>perc_customer</th>\n",
       "      <th>gross_revenue</th>\n",
       "      <th>recency_days</th>\n",
       "      <th>qtd_invoice</th>\n",
       "      <th>frequency</th>\n",
       "      <th>qtd_returns</th>\n",
       "    </tr>\n",
       "  </thead>\n",
       "  <tbody>\n",
       "    <tr>\n",
       "      <th>0</th>\n",
       "      <td>0</td>\n",
       "      <td>240</td>\n",
       "      <td>8.468596</td>\n",
       "      <td>1657.028292</td>\n",
       "      <td>32.095833</td>\n",
       "      <td>7.079167</td>\n",
       "      <td>0.031126</td>\n",
       "      <td>17.141667</td>\n",
       "    </tr>\n",
       "    <tr>\n",
       "      <th>1</th>\n",
       "      <td>1</td>\n",
       "      <td>386</td>\n",
       "      <td>13.620325</td>\n",
       "      <td>349.442383</td>\n",
       "      <td>100.994819</td>\n",
       "      <td>2.461140</td>\n",
       "      <td>0.201487</td>\n",
       "      <td>2.466321</td>\n",
       "    </tr>\n",
       "    <tr>\n",
       "      <th>2</th>\n",
       "      <td>2</td>\n",
       "      <td>249</td>\n",
       "      <td>8.786168</td>\n",
       "      <td>2566.144699</td>\n",
       "      <td>40.622490</td>\n",
       "      <td>7.305221</td>\n",
       "      <td>0.108972</td>\n",
       "      <td>20.477912</td>\n",
       "    </tr>\n",
       "    <tr>\n",
       "      <th>3</th>\n",
       "      <td>3</td>\n",
       "      <td>202</td>\n",
       "      <td>7.127735</td>\n",
       "      <td>969.124703</td>\n",
       "      <td>73.554455</td>\n",
       "      <td>2.613861</td>\n",
       "      <td>0.095760</td>\n",
       "      <td>11.628713</td>\n",
       "    </tr>\n",
       "    <tr>\n",
       "      <th>4</th>\n",
       "      <td>4</td>\n",
       "      <td>291</td>\n",
       "      <td>10.268172</td>\n",
       "      <td>15196.463333</td>\n",
       "      <td>20.398625</td>\n",
       "      <td>19.347079</td>\n",
       "      <td>0.102779</td>\n",
       "      <td>225.395189</td>\n",
       "    </tr>\n",
       "    <tr>\n",
       "      <th>5</th>\n",
       "      <td>5</td>\n",
       "      <td>433</td>\n",
       "      <td>15.278758</td>\n",
       "      <td>583.577460</td>\n",
       "      <td>79.498845</td>\n",
       "      <td>2.819861</td>\n",
       "      <td>0.107224</td>\n",
       "      <td>3.519630</td>\n",
       "    </tr>\n",
       "    <tr>\n",
       "      <th>6</th>\n",
       "      <td>6</td>\n",
       "      <td>343</td>\n",
       "      <td>12.103035</td>\n",
       "      <td>880.579971</td>\n",
       "      <td>70.317784</td>\n",
       "      <td>3.341108</td>\n",
       "      <td>0.094140</td>\n",
       "      <td>6.204082</td>\n",
       "    </tr>\n",
       "    <tr>\n",
       "      <th>7</th>\n",
       "      <td>7</td>\n",
       "      <td>189</td>\n",
       "      <td>6.669019</td>\n",
       "      <td>1913.410582</td>\n",
       "      <td>40.211640</td>\n",
       "      <td>5.253968</td>\n",
       "      <td>0.050315</td>\n",
       "      <td>22.201058</td>\n",
       "    </tr>\n",
       "    <tr>\n",
       "      <th>8</th>\n",
       "      <td>8</td>\n",
       "      <td>291</td>\n",
       "      <td>10.268172</td>\n",
       "      <td>3416.799622</td>\n",
       "      <td>31.154639</td>\n",
       "      <td>7.831615</td>\n",
       "      <td>0.040131</td>\n",
       "      <td>32.903780</td>\n",
       "    </tr>\n",
       "    <tr>\n",
       "      <th>9</th>\n",
       "      <td>9</td>\n",
       "      <td>210</td>\n",
       "      <td>7.410021</td>\n",
       "      <td>1449.856190</td>\n",
       "      <td>60.633333</td>\n",
       "      <td>3.042857</td>\n",
       "      <td>0.079146</td>\n",
       "      <td>7.823810</td>\n",
       "    </tr>\n",
       "  </tbody>\n",
       "</table>\n",
       "</div>"
      ],
      "text/plain": [
       "   cluster  customer_id  perc_customer  gross_revenue  recency_days  \\\n",
       "0        0          240       8.468596    1657.028292     32.095833   \n",
       "1        1          386      13.620325     349.442383    100.994819   \n",
       "2        2          249       8.786168    2566.144699     40.622490   \n",
       "3        3          202       7.127735     969.124703     73.554455   \n",
       "4        4          291      10.268172   15196.463333     20.398625   \n",
       "5        5          433      15.278758     583.577460     79.498845   \n",
       "6        6          343      12.103035     880.579971     70.317784   \n",
       "7        7          189       6.669019    1913.410582     40.211640   \n",
       "8        8          291      10.268172    3416.799622     31.154639   \n",
       "9        9          210       7.410021    1449.856190     60.633333   \n",
       "\n",
       "   qtd_invoice  frequency  qtd_returns  \n",
       "0     7.079167   0.031126    17.141667  \n",
       "1     2.461140   0.201487     2.466321  \n",
       "2     7.305221   0.108972    20.477912  \n",
       "3     2.613861   0.095760    11.628713  \n",
       "4    19.347079   0.102779   225.395189  \n",
       "5     2.819861   0.107224     3.519630  \n",
       "6     3.341108   0.094140     6.204082  \n",
       "7     5.253968   0.050315    22.201058  \n",
       "8     7.831615   0.040131    32.903780  \n",
       "9     3.042857   0.079146     7.823810  "
      ]
     },
     "execution_count": 36,
     "metadata": {},
     "output_type": "execute_result"
    }
   ],
   "source": [
    "df_cluster"
   ]
  },
  {
   "cell_type": "code",
   "execution_count": 37,
   "id": "c94a1dba",
   "metadata": {
    "execution": {
     "iopub.execute_input": "2024-03-04T15:26:01.131785Z",
     "iopub.status.busy": "2024-03-04T15:26:01.130836Z",
     "iopub.status.idle": "2024-03-04T15:26:01.135493Z",
     "shell.execute_reply": "2024-03-04T15:26:01.134510Z"
    },
    "papermill": {
     "duration": 0.025107,
     "end_time": "2024-03-04T15:26:01.137549",
     "exception": false,
     "start_time": "2024-03-04T15:26:01.112442",
     "status": "completed"
    },
    "tags": []
   },
   "outputs": [],
   "source": [
    "import sqlite3"
   ]
  },
  {
   "cell_type": "code",
   "execution_count": 38,
   "id": "9d9b7dff",
   "metadata": {
    "execution": {
     "iopub.execute_input": "2024-03-04T15:26:01.173187Z",
     "iopub.status.busy": "2024-03-04T15:26:01.172482Z",
     "iopub.status.idle": "2024-03-04T15:26:01.291790Z",
     "shell.execute_reply": "2024-03-04T15:26:01.290729Z"
    },
    "papermill": {
     "duration": 0.14001,
     "end_time": "2024-03-04T15:26:01.294498",
     "exception": false,
     "start_time": "2024-03-04T15:26:01.154488",
     "status": "completed"
    },
    "tags": []
   },
   "outputs": [],
   "source": [
    "from sqlalchemy import create_engine"
   ]
  },
  {
   "cell_type": "code",
   "execution_count": null,
   "id": "9fb5ff72",
   "metadata": {
    "papermill": {
     "duration": 0.016735,
     "end_time": "2024-03-04T15:26:01.328745",
     "exception": false,
     "start_time": "2024-03-04T15:26:01.312010",
     "status": "completed"
    },
    "tags": []
   },
   "outputs": [],
   "source": []
  },
  {
   "cell_type": "code",
   "execution_count": 39,
   "id": "8f7ec1e9",
   "metadata": {
    "execution": {
     "iopub.execute_input": "2024-03-04T15:26:01.365053Z",
     "iopub.status.busy": "2024-03-04T15:26:01.363867Z",
     "iopub.status.idle": "2024-03-04T15:26:01.406381Z",
     "shell.execute_reply": "2024-03-04T15:26:01.405177Z"
    },
    "papermill": {
     "duration": 0.063597,
     "end_time": "2024-03-04T15:26:01.409055",
     "exception": false,
     "start_time": "2024-03-04T15:26:01.345458",
     "status": "completed"
    },
    "tags": []
   },
   "outputs": [],
   "source": [
    "# query\n",
    "query_create_table_insiders = \"\"\"\n",
    "    CREATE TABLE insiders (\n",
    "    cluster         INTEGER,\n",
    "    customer_id     INTEGER,\n",
    "    perc_customer   REAL,\n",
    "    gross_revenue   REAL,\n",
    "    recency_days    REAL,\n",
    "    qtd_invoice     REAL,\n",
    "    frequency       REAL,\n",
    "    qtd_returns REAL\n",
    "    )\n",
    "\"\"\"\n",
    "# database connection\n",
    "host=os.environ.get('AWS_DB_HOST')\n",
    "port=os.environ.get('AWS_DB_PORT')\n",
    "database=os.environ.get('AWS_DB_DATABASE')\n",
    "user=os.environ.get('AWS_DB_USER')\n",
    "pwd=os.environ.get('AWS_DB_PWD')\n",
    "\n",
    "# connection string\n",
    "endpoint = f'postgresql://{user}:{pwd}@{host}:{port}/{database}'\n",
    "conn = create_engine(endpoint)\n",
    "\n",
    "# execute query\n",
    "#conn.execute(query_create_table_insiders)\n"
   ]
  },
  {
   "cell_type": "code",
   "execution_count": 40,
   "id": "8ff9d547",
   "metadata": {
    "execution": {
     "iopub.execute_input": "2024-03-04T15:26:01.447094Z",
     "iopub.status.busy": "2024-03-04T15:26:01.446672Z",
     "iopub.status.idle": "2024-03-04T15:26:01.513528Z",
     "shell.execute_reply": "2024-03-04T15:26:01.512420Z"
    },
    "papermill": {
     "duration": 0.089032,
     "end_time": "2024-03-04T15:26:01.516232",
     "exception": false,
     "start_time": "2024-03-04T15:26:01.427200",
     "status": "completed"
    },
    "tags": []
   },
   "outputs": [
    {
     "data": {
      "text/plain": [
       "10"
      ]
     },
     "execution_count": 40,
     "metadata": {},
     "output_type": "execute_result"
    }
   ],
   "source": [
    "# insert data\n",
    "df_cluster.to_sql('insiders', con=conn, if_exists='append', index=False)\n",
    "#conn.close()"
   ]
  }
 ],
 "metadata": {
  "kernelspec": {
   "display_name": "Python 3 (ipykernel)",
   "language": "python",
   "name": "python3"
  },
  "language_info": {
   "codemirror_mode": {
    "name": "ipython",
    "version": 3
   },
   "file_extension": ".py",
   "mimetype": "text/x-python",
   "name": "python",
   "nbconvert_exporter": "python",
   "pygments_lexer": "ipython3",
   "version": "3.10.0"
  },
  "papermill": {
   "default_parameters": {},
   "duration": 104.734575,
   "end_time": "2024-03-04T15:26:02.757599",
   "environment_variables": {},
   "exception": null,
   "input_path": "notebooks/c5-customer-deploy.ipynb",
   "output_path": "notebooks/output.ipynb",
   "parameters": {},
   "start_time": "2024-03-04T15:24:18.023024",
   "version": "2.5.0"
  },
  "varInspector": {
   "cols": {
    "lenName": 16,
    "lenType": 16,
    "lenVar": 40
   },
   "kernels_config": {
    "python": {
     "delete_cmd_postfix": "",
     "delete_cmd_prefix": "del ",
     "library": "var_list.py",
     "varRefreshCmd": "print(var_dic_list())"
    },
    "r": {
     "delete_cmd_postfix": ") ",
     "delete_cmd_prefix": "rm(",
     "library": "var_list.r",
     "varRefreshCmd": "cat(var_dic_list()) "
    }
   },
   "types_to_exclude": [
    "module",
    "function",
    "builtin_function_or_method",
    "instance",
    "_Feature"
   ],
   "window_display": false
  }
 },
 "nbformat": 4,
 "nbformat_minor": 5
}